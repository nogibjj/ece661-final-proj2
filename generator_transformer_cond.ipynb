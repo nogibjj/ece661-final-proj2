{
 "cells": [
  {
   "cell_type": "code",
   "execution_count": 1,
   "metadata": {},
   "outputs": [
    {
     "data": {
      "text/plain": [
       "<torch._C.Generator at 0x7f0d901ba590>"
      ]
     },
     "execution_count": 1,
     "metadata": {},
     "output_type": "execute_result"
    }
   ],
   "source": [
    "import os\n",
    "from data.process_data import MidiEncoder, MIDIEncoderREMI\n",
    "import pickle as pkl\n",
    "from torch.utils.data import DataLoader\n",
    "from data.dataset import TransformerDatasetREMI\n",
    "import numpy as np\n",
    "import glob\n",
    "import torch\n",
    "torch.manual_seed(0)"
   ]
  },
  {
   "cell_type": "code",
   "execution_count": 2,
   "metadata": {},
   "outputs": [],
   "source": [
    "path_to_midi = \"data/emopia/EMOPIA_2.2/midis/\""
   ]
  },
  {
   "cell_type": "code",
   "execution_count": 3,
   "metadata": {},
   "outputs": [],
   "source": [
    "# Instantiate your MidiEncoder and MidiEncoderREMI\n",
    "midi_files_list = [os.path.join(path_to_midi, file) for file in os.listdir(path_to_midi) if file.endswith(\".mid\")]\n",
    "midi_encoder = MidiEncoder(steps_per_sec=100, num_vel_bins=32, min_pitch=21, max_pitch=108)\n",
    "midi_encoder_remi = MIDIEncoderREMI(dict_path=\"data/encoder_dict.pkl\", midi_files_list=midi_files_list)"
   ]
  },
  {
   "cell_type": "code",
   "execution_count": 4,
   "metadata": {},
   "outputs": [],
   "source": [
    "# encoded_sequences_path = \"data/encoded_sequences.pkl\"\n",
    "# encoded_sequences = midi_encoder.encode_midi_list(midi_files_list, pkl_path=encoded_sequences_path)"
   ]
  },
  {
   "cell_type": "code",
   "execution_count": 5,
   "metadata": {},
   "outputs": [],
   "source": [
    "# Now create the dataset and save it in a NumPy file\n",
    "dataset_path = \"data/datasets/\"\n",
    "# midi_encoder_remi.save_dataset(midi_files_list, dataset_path)"
   ]
  },
  {
   "cell_type": "code",
   "execution_count": 6,
   "metadata": {},
   "outputs": [],
   "source": [
    "# # Save the dataset as a single file\n",
    "single_file_dataset_path = \"data/single_file_dataset.npz\"\n",
    "# midi_encoder_remi.save_dataset_as_single_file(glob.glob(os.path.join(dataset_path, '*.npy')), single_file_dataset_path)"
   ]
  },
  {
   "cell_type": "code",
   "execution_count": 7,
   "metadata": {},
   "outputs": [
    {
     "name": "stderr",
     "output_type": "stream",
     "text": [
      "/workspaces/ece661-final-proj2/data/dataset.py:239: UserWarning: Creating a tensor from a list of numpy.ndarrays is extremely slow. Please consider converting the list to a single numpy.ndarray with numpy.array() before converting to a tensor. (Triggered internally at ../torch/csrc/utils/tensor_new.cpp:261.)\n",
      "  self.sequences = torch.Tensor(self.sequences)\n"
     ]
    }
   ],
   "source": [
    "from data.dataset import ClassifierDataset\n",
    "max_seq_len = 256\n",
    "classifier_dataset = ClassifierDataset(single_file_dataset_path, seq_len=max_seq_len+1, labels_path=\"data/emopia/EMOPIA_2.2/label.csv\")\n",
    "train_size = int(0.7 * len(classifier_dataset))\n",
    "valid_size = int(0.15 * len(classifier_dataset))\n",
    "test_size = len(classifier_dataset) - train_size - valid_size\n",
    "train_dataset, valid_dataset, test_dataset = torch.utils.data.random_split(classifier_dataset, [train_size, valid_size, test_size])"
   ]
  },
  {
   "cell_type": "code",
   "execution_count": 8,
   "metadata": {},
   "outputs": [],
   "source": [
    "batch_size = 64"
   ]
  },
  {
   "cell_type": "code",
   "execution_count": 9,
   "metadata": {},
   "outputs": [],
   "source": [
    "train_dataloader = DataLoader(train_dataset, batch_size=batch_size, shuffle=False, drop_last=True)\n",
    "valid_dataloader = DataLoader(valid_dataset, batch_size=batch_size, shuffle=False, drop_last=True)\n",
    "test_dataloader = DataLoader(test_dataset, batch_size=batch_size, shuffle=False, drop_last=True)"
   ]
  },
  {
   "cell_type": "code",
   "execution_count": 10,
   "metadata": {},
   "outputs": [],
   "source": [
    "vocab_set = set()\n",
    "for dic in train_dataset:\n",
    "    ipt = dic['input'].numpy()\n",
    "    vocab_set = vocab_set.union(set(ipt))\n",
    "vocab_size = len(vocab_set)"
   ]
  },
  {
   "cell_type": "code",
   "execution_count": 11,
   "metadata": {},
   "outputs": [],
   "source": [
    "# Q1, Q2, Q3, Q4 = [], [], [], []\n",
    "# for dic in classifier_dataset:\n",
    "#     label = dic['target']\n",
    "#     if label == 0:\n",
    "#         Q1.append(dic)\n",
    "#     elif label == 1:\n",
    "#         Q2.append(dic)\n",
    "#     elif label == 2:\n",
    "#         Q3.append(dic)\n",
    "#     elif label == 3:\n",
    "#         Q4.append(dic)"
   ]
  },
  {
   "cell_type": "code",
   "execution_count": 12,
   "metadata": {},
   "outputs": [],
   "source": [
    "# classifier_valid = {'Q1': Q1, 'Q2': Q2, 'Q3': Q3, 'Q4': Q4}"
   ]
  },
  {
   "cell_type": "code",
   "execution_count": 13,
   "metadata": {},
   "outputs": [],
   "source": [
    "import math\n",
    "\n",
    "import torch\n",
    "from torch import nn, Tensor\n",
    "from torch.nn import TransformerEncoder, TransformerEncoderLayer, Embedding\n"
   ]
  },
  {
   "cell_type": "code",
   "execution_count": 14,
   "metadata": {},
   "outputs": [],
   "source": [
    "import torch\n",
    "import torch.nn as nn\n",
    "import torch.optim as optim\n",
    "import math"
   ]
  },
  {
   "cell_type": "code",
   "execution_count": 15,
   "metadata": {},
   "outputs": [],
   "source": [
    "class MultiHeadAttention(nn.Module):\n",
    "    def __init__(self, d_model, num_heads):\n",
    "        super(MultiHeadAttention, self).__init__()\n",
    "        assert d_model % num_heads == 0, \"d_model must be divisible by num_heads\"\n",
    "        \n",
    "        self.d_model = d_model\n",
    "        self.num_heads = num_heads\n",
    "        self.d_k = d_model // num_heads\n",
    "        \n",
    "        self.W_q = nn.Linear(d_model, d_model)\n",
    "        self.W_k = nn.Linear(d_model, d_model)\n",
    "        self.W_v = nn.Linear(d_model, d_model)\n",
    "        self.W_o = nn.Linear(d_model, d_model)\n",
    "        \n",
    "    def scaled_dot_product_attention(self, Q, K, V, mask=None):\n",
    "        attn_scores = torch.matmul(Q, K.transpose(-2, -1)) / math.sqrt(self.d_k)\n",
    "        if mask is not None:\n",
    "            attn_scores = attn_scores.masked_fill(mask == 0, -1e9)\n",
    "        attn_probs = torch.softmax(attn_scores, dim=-1)\n",
    "        output = torch.matmul(attn_probs, V)\n",
    "        return output\n",
    "        \n",
    "    def split_heads(self, x):\n",
    "        batch_size, seq_length, d_model = x.size()\n",
    "        return x.view(batch_size, seq_length, self.num_heads, self.d_k).transpose(1, 2)\n",
    "        \n",
    "    def combine_heads(self, x):\n",
    "        batch_size, _, seq_length, d_k = x.size()\n",
    "        return x.transpose(1, 2).contiguous().view(batch_size, seq_length, self.d_model)\n",
    "        \n",
    "    def forward(self, Q, K, V, mask=None):\n",
    "        Q = self.split_heads(self.W_q(Q))\n",
    "        K = self.split_heads(self.W_k(K))\n",
    "        V = self.split_heads(self.W_v(V))\n",
    "        \n",
    "        attn_output = self.scaled_dot_product_attention(Q, K, V, mask)\n",
    "        output = self.W_o(self.combine_heads(attn_output))\n",
    "        return output"
   ]
  },
  {
   "cell_type": "code",
   "execution_count": 16,
   "metadata": {},
   "outputs": [],
   "source": [
    "class PositionWiseFeedForward(nn.Module):\n",
    "    def __init__(self, d_model, d_ff):\n",
    "        super(PositionWiseFeedForward, self).__init__()\n",
    "        self.fc1 = nn.Linear(d_model, d_ff)\n",
    "        self.fc2 = nn.Linear(d_ff, d_model)\n",
    "        self.relu = nn.ReLU()\n",
    "\n",
    "    def forward(self, x):\n",
    "        return self.fc2(self.relu(self.fc1(x)))"
   ]
  },
  {
   "cell_type": "code",
   "execution_count": 17,
   "metadata": {},
   "outputs": [],
   "source": [
    "class PositionalEncoding(nn.Module):\n",
    "    def __init__(self, d_model, max_seq_length):\n",
    "        super(PositionalEncoding, self).__init__()\n",
    "        \n",
    "        pe = torch.zeros(max_seq_length, d_model)\n",
    "        position = torch.arange(0, max_seq_length, dtype=torch.float).unsqueeze(1)\n",
    "        div_term = torch.exp(torch.arange(0, d_model, 2).float() * -(math.log(10000.0) / d_model))\n",
    "        \n",
    "        pe[:, 0::2] = torch.sin(position * div_term)\n",
    "        pe[:, 1::2] = torch.cos(position * div_term)\n",
    "        \n",
    "        self.register_buffer('pe', pe.unsqueeze(0))\n",
    "        \n",
    "    def forward(self, x):\n",
    "        return x + self.pe[:, :x.size(1)]"
   ]
  },
  {
   "cell_type": "code",
   "execution_count": null,
   "metadata": {},
   "outputs": [],
   "source": [
    "class EncoderLayer(nn.Module):\n",
    "    def __init__(self, d_model, num_heads, d_ff, dropout):\n",
    "        super(EncoderLayer, self).__init__()\n",
    "        self.self_attn = MultiHeadAttention(d_model, num_heads)\n",
    "        self.feed_forward = PositionWiseFeedForward(d_model, d_ff)\n",
    "        self.norm1 = nn.LayerNorm(d_model)\n",
    "        self.norm2 = nn.LayerNorm(d_model)\n",
    "        self.dropout = nn.Dropout(dropout)\n",
    "        \n",
    "    def forward(self, x, mask):\n",
    "        attn_output = self.self_attn(x, x, x, mask)\n",
    "        x = self.norm1(x + self.dropout(attn_output))\n",
    "        ff_output = self.feed_forward(x)\n",
    "        x = self.norm2(x + self.dropout(ff_output))\n",
    "        return x"
   ]
  },
  {
   "cell_type": "code",
   "execution_count": 19,
   "metadata": {},
   "outputs": [],
   "source": [
    "class DecoderLayer(nn.Module):\n",
    "    def __init__(self, d_model, num_heads, d_ff, dropout):\n",
    "        super(DecoderLayer, self).__init__()\n",
    "        self.self_attn = MultiHeadAttention(d_model, num_heads)\n",
    "        self.cross_attn = MultiHeadAttention(d_model, num_heads)\n",
    "        self.feed_forward = PositionWiseFeedForward(d_model, d_ff)\n",
    "        self.norm1 = nn.LayerNorm(d_model)\n",
    "        self.norm2 = nn.LayerNorm(d_model)\n",
    "        self.norm3 = nn.LayerNorm(d_model)\n",
    "        self.dropout = nn.Dropout(dropout)\n",
    "        \n",
    "    def forward(self, x, enc_output, src_mask, tgt_mask):\n",
    "        attn_output = self.self_attn(x, x, x, tgt_mask)\n",
    "        x = self.norm1(x + self.dropout(attn_output))\n",
    "        attn_output = self.cross_attn(x, enc_output, enc_output, src_mask)\n",
    "        x = self.norm2(x + self.dropout(attn_output))\n",
    "        ff_output = self.feed_forward(x)\n",
    "        x = self.norm3(x + self.dropout(ff_output))\n",
    "        return x"
   ]
  },
  {
   "cell_type": "code",
   "execution_count": 20,
   "metadata": {},
   "outputs": [],
   "source": [
    "class Transformer(nn.Module):\n",
    "    def __init__(self, src_vocab_size, tgt_vocab_size, d_model, num_heads, num_layers, d_ff, max_seq_length, dropout, num_emotions):\n",
    "        super(Transformer, self).__init__()\n",
    "        self.encoder_embedding = nn.Embedding(src_vocab_size, d_model)\n",
    "        self.decoder_embedding = nn.Embedding(tgt_vocab_size, d_model)\n",
    "        self.positional_encoding = PositionalEncoding(d_model, max_seq_length)\n",
    "        self.emotion_embedding = nn.Embedding(num_emotions, d_model)\n",
    "\n",
    "        self.encoder_layers = nn.ModuleList([EncoderLayer(d_model, num_heads, d_ff, dropout) for _ in range(num_layers)])\n",
    "        self.decoder_layers = nn.ModuleList([DecoderLayer(d_model, num_heads, d_ff, dropout) for _ in range(num_layers)])\n",
    "        self.fc = nn.Linear(d_model, tgt_vocab_size)\n",
    "        self.dropout = nn.Dropout(dropout)\n",
    "\n",
    "    def generate_mask(self, src, tgt):\n",
    "        src_mask = (src != 0).unsqueeze(1).unsqueeze(2)\n",
    "        tgt_mask = (tgt != 0).unsqueeze(1).unsqueeze(3)\n",
    "        seq_length = tgt.size(1)\n",
    "        nopeak_mask = (1 - torch.triu(torch.ones(1, seq_length, seq_length), diagonal=1)).bool().to(device)\n",
    "        tgt_mask = tgt_mask & nopeak_mask\n",
    "        return src_mask, tgt_mask\n",
    "\n",
    "    def forward(self, src, tgt, emotion):\n",
    "        src_mask, tgt_mask = self.generate_mask(src, tgt)\n",
    "        src_embedded = self.dropout(self.positional_encoding(self.encoder_embedding(src)) + self.emotion_embedding(emotion).unsqueeze(1))\n",
    "        tgt_embedded = self.dropout(self.positional_encoding(self.decoder_embedding(tgt)) + self.emotion_embedding(emotion).unsqueeze(1))\n",
    "\n",
    "        enc_output = src_embedded\n",
    "        for enc_layer in self.encoder_layers:\n",
    "            enc_output = enc_layer(enc_output, src_mask)\n",
    "\n",
    "        dec_output = tgt_embedded\n",
    "        for dec_layer in self.decoder_layers:\n",
    "            dec_output = dec_layer(dec_output, enc_output, src_mask, tgt_mask)\n",
    "\n",
    "        output = self.fc(dec_output)\n",
    "        return output"
   ]
  },
  {
   "cell_type": "code",
   "execution_count": 21,
   "metadata": {},
   "outputs": [],
   "source": [
    "src_vocab_size = vocab_size\n",
    "tgt_vocab_size = vocab_size\n",
    "d_model = 512\n",
    "num_heads = 8\n",
    "num_layers = 6\n",
    "d_ff = 256\n",
    "max_seq_length = max_seq_len\n",
    "dropout = 0.2\n",
    "epochs = 100\n",
    "num_emotions = 4\n",
    "\n",
    "device = torch.device(\"cuda\" if torch.cuda.is_available() else \"cpu\")\n",
    "\n",
    "transformer = Transformer(src_vocab_size, tgt_vocab_size, d_model, num_heads, num_layers, d_ff, max_seq_length, dropout, num_emotions).to(device)"
   ]
  },
  {
   "cell_type": "code",
   "execution_count": 22,
   "metadata": {},
   "outputs": [],
   "source": [
    "def early_stopping(val_loss, epoch,best_loss,epochs_no_improve, patience=10, checkpoint_dir=\"checkpoints/transformer_ende_cond.pt\"):\n",
    "    if epoch == 0:\n",
    "        torch.save(transformer.state_dict(), checkpoint_dir)\n",
    "        best_loss = val_loss\n",
    "        epochs_no_improve = 0\n",
    "        return False, best_loss, epochs_no_improve\n",
    "    else:\n",
    "        if val_loss < best_loss:\n",
    "            torch.save(transformer.state_dict(), checkpoint_dir)\n",
    "            print(f\"Saved model at epoch { epoch } with validation loss of {val_loss}\")\n",
    "            best_loss = val_loss\n",
    "            epochs_no_improve = 0\n",
    "            return False, best_loss, epochs_no_improve\n",
    "        else:\n",
    "            epochs_no_improve += 1\n",
    "            if epochs_no_improve >= patience:\n",
    "                print('Early stopping!')\n",
    "                return True, best_loss, epochs_no_improve\n",
    "            else:\n",
    "                return False, best_loss, epochs_no_improve"
   ]
  },
  {
   "cell_type": "code",
   "execution_count": 23,
   "metadata": {},
   "outputs": [
    {
     "name": "stdout",
     "output_type": "stream",
     "text": [
      "Epoch: [ 0 / 100 ]; TrainLoss: 4.24239; ValidLoss: 3.90111\n",
      "Epoch: [ 1 / 100 ]; TrainLoss: 3.30567; ValidLoss: 2.76626\n",
      "Saved model at epoch 1 with validation loss of 2.7662564624439585\n",
      "Epoch: [ 2 / 100 ]; TrainLoss: 2.67443; ValidLoss: 2.45917\n",
      "Saved model at epoch 2 with validation loss of 2.4591685208407315\n",
      "Epoch: [ 3 / 100 ]; TrainLoss: 2.33260; ValidLoss: 2.14814\n",
      "Saved model at epoch 3 with validation loss of 2.148142771287398\n",
      "Epoch: [ 4 / 100 ]; TrainLoss: 2.10476; ValidLoss: 1.96406\n",
      "Saved model at epoch 4 with validation loss of 1.9640643271532925\n",
      "Epoch: [ 5 / 100 ]; TrainLoss: 1.92551; ValidLoss: 1.79616\n",
      "Saved model at epoch 5 with validation loss of 1.796158324588429\n",
      "Epoch: [ 6 / 100 ]; TrainLoss: 1.78548; ValidLoss: 1.65536\n",
      "Saved model at epoch 6 with validation loss of 1.6553636139089412\n",
      "Epoch: [ 7 / 100 ]; TrainLoss: 1.66985; ValidLoss: 1.52068\n",
      "Saved model at epoch 7 with validation loss of 1.5206848057833584\n",
      "Epoch: [ 8 / 100 ]; TrainLoss: 1.55711; ValidLoss: 1.39441\n",
      "Saved model at epoch 8 with validation loss of 1.394412333315069\n",
      "Epoch: [ 9 / 100 ]; TrainLoss: 1.45729; ValidLoss: 1.27318\n",
      "Saved model at epoch 9 with validation loss of 1.2731836167248813\n",
      "Epoch: [ 10 / 100 ]; TrainLoss: 1.35422; ValidLoss: 1.15796\n",
      "Saved model at epoch 10 with validation loss of 1.157955830747431\n",
      "Epoch: [ 11 / 100 ]; TrainLoss: 1.25463; ValidLoss: 1.02562\n",
      "Saved model at epoch 11 with validation loss of 1.0256217067891902\n",
      "Epoch: [ 12 / 100 ]; TrainLoss: 1.15437; ValidLoss: 0.92657\n",
      "Saved model at epoch 12 with validation loss of 0.9265724149617282\n",
      "Epoch: [ 13 / 100 ]; TrainLoss: 1.06541; ValidLoss: 0.79353\n",
      "Saved model at epoch 13 with validation loss of 0.7935340133580294\n",
      "Epoch: [ 14 / 100 ]; TrainLoss: 0.99146; ValidLoss: 0.70912\n",
      "Saved model at epoch 14 with validation loss of 0.7091230587525801\n",
      "Epoch: [ 15 / 100 ]; TrainLoss: 0.92156; ValidLoss: 0.64200\n",
      "Saved model at epoch 15 with validation loss of 0.6419982205737721\n",
      "Epoch: [ 16 / 100 ]; TrainLoss: 0.86307; ValidLoss: 0.55787\n",
      "Saved model at epoch 16 with validation loss of 0.5578745007514954\n",
      "Epoch: [ 17 / 100 ]; TrainLoss: 0.79886; ValidLoss: 0.56194\n",
      "Epoch: [ 18 / 100 ]; TrainLoss: 0.76147; ValidLoss: 0.48462\n",
      "Saved model at epoch 18 with validation loss of 0.4846229580315677\n",
      "Epoch: [ 19 / 100 ]; TrainLoss: 0.70695; ValidLoss: 0.43917\n",
      "Saved model at epoch 19 with validation loss of 0.4391748986460946\n",
      "Epoch: [ 20 / 100 ]; TrainLoss: 0.66739; ValidLoss: 0.36537\n",
      "Saved model at epoch 20 with validation loss of 0.36537166888063605\n",
      "Epoch: [ 21 / 100 ]; TrainLoss: 0.61941; ValidLoss: 0.34686\n",
      "Saved model at epoch 21 with validation loss of 0.3468633619221774\n",
      "Epoch: [ 22 / 100 ]; TrainLoss: 0.57525; ValidLoss: 0.32918\n",
      "Saved model at epoch 22 with validation loss of 0.3291819231076674\n",
      "Epoch: [ 23 / 100 ]; TrainLoss: 0.55052; ValidLoss: 0.25525\n",
      "Saved model at epoch 23 with validation loss of 0.25525252385572955\n",
      "Epoch: [ 24 / 100 ]; TrainLoss: 0.52334; ValidLoss: 0.33700\n",
      "Epoch: [ 25 / 100 ]; TrainLoss: 0.48664; ValidLoss: 0.25220\n",
      "Saved model at epoch 25 with validation loss of 0.2522034292871302\n",
      "Epoch: [ 26 / 100 ]; TrainLoss: 0.46925; ValidLoss: 0.21365\n",
      "Saved model at epoch 26 with validation loss of 0.21365190094167535\n",
      "Epoch: [ 27 / 100 ]; TrainLoss: 0.44879; ValidLoss: 0.19291\n",
      "Saved model at epoch 27 with validation loss of 0.19290770454840225\n",
      "Epoch: [ 28 / 100 ]; TrainLoss: 0.42095; ValidLoss: 0.28333\n",
      "Epoch: [ 29 / 100 ]; TrainLoss: 0.39199; ValidLoss: 0.18755\n",
      "Saved model at epoch 29 with validation loss of 0.18754828518087213\n",
      "Epoch: [ 30 / 100 ]; TrainLoss: 0.37514; ValidLoss: 0.15133\n",
      "Saved model at epoch 30 with validation loss of 0.15133358538150787\n",
      "Epoch: [ 31 / 100 ]; TrainLoss: 0.35069; ValidLoss: 0.11003\n",
      "Saved model at epoch 31 with validation loss of 0.11003400588577444\n",
      "Epoch: [ 32 / 100 ]; TrainLoss: 0.33905; ValidLoss: 0.21110\n",
      "Epoch: [ 33 / 100 ]; TrainLoss: 0.32392; ValidLoss: 0.26180\n",
      "Epoch: [ 34 / 100 ]; TrainLoss: 0.29561; ValidLoss: 0.10834\n",
      "Saved model at epoch 34 with validation loss of 0.10834299502047626\n",
      "Epoch: [ 35 / 100 ]; TrainLoss: 0.27036; ValidLoss: 0.11256\n",
      "Epoch: [ 36 / 100 ]; TrainLoss: 0.25655; ValidLoss: 0.16012\n",
      "Epoch: [ 37 / 100 ]; TrainLoss: 0.23984; ValidLoss: 0.08210\n",
      "Saved model at epoch 37 with validation loss of 0.08209903199564327\n",
      "Epoch: [ 38 / 100 ]; TrainLoss: 0.22328; ValidLoss: 0.08866\n",
      "Epoch: [ 39 / 100 ]; TrainLoss: 0.21394; ValidLoss: 0.14894\n",
      "Epoch: [ 40 / 100 ]; TrainLoss: 0.18503; ValidLoss: 0.13780\n",
      "Epoch: [ 41 / 100 ]; TrainLoss: 0.17345; ValidLoss: 0.14370\n",
      "Epoch: [ 42 / 100 ]; TrainLoss: 0.15712; ValidLoss: 0.09483\n",
      "Epoch: [ 43 / 100 ]; TrainLoss: 0.13813; ValidLoss: 0.05995\n",
      "Saved model at epoch 43 with validation loss of 0.05995196950706569\n",
      "Epoch: [ 44 / 100 ]; TrainLoss: 0.12438; ValidLoss: 0.02193\n",
      "Saved model at epoch 44 with validation loss of 0.021932721984657375\n",
      "Epoch: [ 45 / 100 ]; TrainLoss: 0.09825; ValidLoss: 0.02136\n",
      "Saved model at epoch 45 with validation loss of 0.021360528401353142\n",
      "Epoch: [ 46 / 100 ]; TrainLoss: 0.08538; ValidLoss: 0.02235\n",
      "Epoch: [ 47 / 100 ]; TrainLoss: 0.07582; ValidLoss: 0.01426\n",
      "Saved model at epoch 47 with validation loss of 0.014256468804722483\n",
      "Epoch: [ 48 / 100 ]; TrainLoss: 0.06270; ValidLoss: 0.01342\n",
      "Saved model at epoch 48 with validation loss of 0.013423782011324709\n",
      "Epoch: [ 49 / 100 ]; TrainLoss: 0.05746; ValidLoss: 0.01138\n",
      "Saved model at epoch 49 with validation loss of 0.011383428407663649\n",
      "Epoch: [ 50 / 100 ]; TrainLoss: 0.04671; ValidLoss: 0.01272\n",
      "Epoch: [ 51 / 100 ]; TrainLoss: 0.03851; ValidLoss: 0.01065\n",
      "Saved model at epoch 51 with validation loss of 0.01064963706515052\n",
      "Epoch: [ 52 / 100 ]; TrainLoss: 0.03737; ValidLoss: 0.01267\n",
      "Epoch: [ 53 / 100 ]; TrainLoss: 0.09024; ValidLoss: 0.00998\n",
      "Saved model at epoch 53 with validation loss of 0.00997502559965307\n",
      "Epoch: [ 54 / 100 ]; TrainLoss: 0.02509; ValidLoss: 0.01001\n",
      "Epoch: [ 55 / 100 ]; TrainLoss: 0.02364; ValidLoss: 0.00992\n",
      "Saved model at epoch 55 with validation loss of 0.0099201240492138\n",
      "Epoch: [ 56 / 100 ]; TrainLoss: 0.02276; ValidLoss: 0.00984\n",
      "Saved model at epoch 56 with validation loss of 0.009839837608689611\n",
      "Epoch: [ 57 / 100 ]; TrainLoss: 0.02296; ValidLoss: 0.01444\n",
      "Epoch: [ 58 / 100 ]; TrainLoss: 0.04139; ValidLoss: 0.00971\n",
      "Saved model at epoch 58 with validation loss of 0.009709558788348328\n",
      "Epoch: [ 59 / 100 ]; TrainLoss: 0.01712; ValidLoss: 0.00962\n",
      "Saved model at epoch 59 with validation loss of 0.009620612233199856\n",
      "Epoch: [ 60 / 100 ]; TrainLoss: 0.01686; ValidLoss: 0.01000\n",
      "Epoch: [ 61 / 100 ]; TrainLoss: 0.01689; ValidLoss: 0.00972\n",
      "Epoch: [ 62 / 100 ]; TrainLoss: 0.01770; ValidLoss: 0.00941\n",
      "Saved model at epoch 62 with validation loss of 0.009409429928795858\n",
      "Epoch: [ 63 / 100 ]; TrainLoss: 0.01851; ValidLoss: 0.01475\n",
      "Epoch: [ 64 / 100 ]; TrainLoss: 0.07180; ValidLoss: 0.00934\n",
      "Saved model at epoch 64 with validation loss of 0.009340583262118425\n",
      "Epoch: [ 65 / 100 ]; TrainLoss: 0.01340; ValidLoss: 0.00969\n",
      "Epoch: [ 66 / 100 ]; TrainLoss: 0.01235; ValidLoss: 0.00959\n",
      "Epoch: [ 67 / 100 ]; TrainLoss: 0.01230; ValidLoss: 0.00965\n",
      "Epoch: [ 68 / 100 ]; TrainLoss: 0.01323; ValidLoss: 0.01000\n",
      "Epoch: [ 69 / 100 ]; TrainLoss: 0.01320; ValidLoss: 0.00962\n",
      "Epoch: [ 70 / 100 ]; TrainLoss: 0.01297; ValidLoss: 0.00964\n",
      "Epoch: [ 71 / 100 ]; TrainLoss: 0.04077; ValidLoss: 0.26405\n",
      "Epoch: [ 72 / 100 ]; TrainLoss: 0.03027; ValidLoss: 0.00951\n",
      "Epoch: [ 73 / 100 ]; TrainLoss: 0.00937; ValidLoss: 0.00934\n",
      "Saved model at epoch 73 with validation loss of 0.009335641495206139\n",
      "Epoch: [ 74 / 100 ]; TrainLoss: 0.00897; ValidLoss: 0.00949\n",
      "Epoch: [ 75 / 100 ]; TrainLoss: 0.00920; ValidLoss: 0.00965\n",
      "Epoch: [ 76 / 100 ]; TrainLoss: 0.00988; ValidLoss: 0.00991\n",
      "Epoch: [ 77 / 100 ]; TrainLoss: 0.00967; ValidLoss: 0.00990\n",
      "Epoch: [ 78 / 100 ]; TrainLoss: 0.01074; ValidLoss: 0.00990\n",
      "Epoch: [ 79 / 100 ]; TrainLoss: 0.01079; ValidLoss: 0.00977\n",
      "Epoch: [ 80 / 100 ]; TrainLoss: 0.01010; ValidLoss: 0.00976\n",
      "Epoch: [ 81 / 100 ]; TrainLoss: 0.01012; ValidLoss: 0.01001\n",
      "Epoch: [ 82 / 100 ]; TrainLoss: 0.00935; ValidLoss: 0.01003\n",
      "Epoch: [ 83 / 100 ]; TrainLoss: 0.00894; ValidLoss: 0.01000\n",
      "Early stopping!\n",
      "Training complete!\n",
      "Best loss:  0.009335641495206139\n"
     ]
    }
   ],
   "source": [
    "criterion = nn.CrossEntropyLoss()\n",
    "optimizer = optim.Adam(transformer.parameters(), lr=0.0001, betas=(0.9, 0.98), eps=1e-9)\n",
    "\n",
    "best_loss = 50\n",
    "epochs_no_improve = 0\n",
    "\n",
    "# save the train valid losses for each epoch, and print them after epoch ends\n",
    "\n",
    "train_losses = []\n",
    "valid_losses = []\n",
    "\n",
    "\n",
    "for epoch in range(epochs):\n",
    "    transformer.train()\n",
    "    train_loss = 0\n",
    "    valid_loss = 0\n",
    "    for batch in train_dataloader:\n",
    "        src_data = batch['input'].to(device)\n",
    "        # tgt_data = nn.functional.pad(src_data[:,1:], (0, 1), 'constant', 0).to(device)\n",
    "        tgt_data = src_data[:, 1:].to(device)\n",
    "        src_data = src_data[:, :-1]\n",
    "        emotion = batch['target'].to(device)\n",
    "        optimizer.zero_grad()\n",
    "        output = transformer(src_data, tgt_data[:, :-1], emotion)\n",
    "        loss = criterion(output.contiguous().view(-1, tgt_vocab_size), tgt_data[:, 1:].contiguous().view(-1))\n",
    "        loss.backward()\n",
    "        optimizer.step()\n",
    "        train_loss+=loss.item()\n",
    "    train_losses.append(train_loss/len(train_dataloader))\n",
    "\n",
    "    # evaluate on validation set\n",
    "    transformer.eval()\n",
    "    with torch.no_grad():\n",
    "        for batch in valid_dataloader:\n",
    "            src_data = batch['input'].to(device)\n",
    "            tgt_data = src_data[:, 1:].to(device)\n",
    "            # tgt_data = nn.functional.pad(src_data[:,1:], (0, 1), 'constant', 0).to(device)\n",
    "            src_data = src_data[:, :-1]\n",
    "            emotion = batch['target'].to(device)\n",
    "            output = transformer(src_data, tgt_data[:, :-1], emotion)\n",
    "            loss = criterion(output.contiguous().view(-1, tgt_vocab_size), tgt_data[:, 1:].contiguous().view(-1))\n",
    "            valid_loss+=loss.item()\n",
    "            \n",
    "    valid_losses.append(valid_loss/len(valid_dataloader))\n",
    "\n",
    "    print(\"Epoch: [ {} / {} ]; TrainLoss: {:.5f}; ValidLoss: {:.5f}\".format(\n",
    "        epoch, epochs, train_loss/len(train_dataloader), valid_loss/len(valid_dataloader)\n",
    "    ))\n",
    "\n",
    "    cond, best_loss, epochs_no_improve = early_stopping(valid_loss/len(valid_dataloader), epoch, best_loss,epochs_no_improve, patience=10)\n",
    "    if cond:\n",
    "        break\n",
    "\n",
    "print(\"Training complete!\")\n",
    "print(\"Best loss: \", best_loss)"
   ]
  },
  {
   "cell_type": "code",
   "execution_count": 24,
   "metadata": {},
   "outputs": [
    {
     "data": {
      "image/png": "[encoded data removed]",
      "text/plain": [
       "<Figure size 640x480 with 1 Axes>"
      ]
     },
     "metadata": {
      "image/png": {
       "height": 454,
       "width": 554
      }
     },
     "output_type": "display_data"
    }
   ],
   "source": [
    "# plot losses\n",
    "import matplotlib.pyplot as plt\n",
    "%config InlineBackend.figure_format = 'retina' # Makes the plots clear on high-res screens\n",
    "plt.plot(train_losses, label='Training loss')\n",
    "plt.plot(valid_losses, label='Validation loss')\n",
    "plt.xlabel('Epochs')\n",
    "plt.ylabel('Loss')\n",
    "plt.title(\"Vanilla Transformer\")\n",
    "plt.legend(frameon=False)\n",
    "plt.tight_layout\n",
    "plt.show()"
   ]
  },
  {
   "cell_type": "code",
   "execution_count": 24,
   "metadata": {},
   "outputs": [
    {
     "data": {
      "text/plain": [
       "<All keys matched successfully>"
      ]
     },
     "execution_count": 24,
     "metadata": {},
     "output_type": "execute_result"
    }
   ],
   "source": [
    "# generate a sequence from the transformer model using test dataloader from the best model\n",
    "transformer = Transformer(src_vocab_size, tgt_vocab_size, d_model, num_heads, num_layers, d_ff, max_seq_length, dropout, num_emotions)\n",
    "transformer.to(device)\n",
    "transformer.load_state_dict(torch.load(\"checkpoints/transformer_ende_cond.pt\"))"
   ]
  },
  {
   "cell_type": "code",
   "execution_count": 22,
   "metadata": {},
   "outputs": [],
   "source": [
    "from torch.nn.functional import softmax"
   ]
  },
  {
   "cell_type": "code",
   "execution_count": 23,
   "metadata": {},
   "outputs": [],
   "source": [
    "def softmax_with_temperature(logits, temperature):\n",
    "    probs = torch.nn.functional.softmax(logits / temperature, dim=-1)\n",
    "    return probs\n",
    "end_token_id = 1"
   ]
  },
  {
   "cell_type": "code",
   "execution_count": 24,
   "metadata": {},
   "outputs": [],
   "source": [
    "def generate_sequence(model, prompt, emotion, max_length, temperature=1.0):\n",
    "    model.eval()  # Set the model to inference mode\n",
    "\n",
    "    # Tokenize the prompt\n",
    "    src = prompt.to(device)\n",
    "    tgt = src[:,0].unsqueeze(1).to(device)  \n",
    "\n",
    "    for i in range(max_length):\n",
    "        # Forward pass through the model\n",
    "        output = model(src, tgt, emotion)  # Add emotion as required\n",
    "        logits = output[:, -1, :]  # Consider only the last token's output\n",
    "\n",
    "        # Apply temperature scaling\n",
    "        probs = softmax_with_temperature(logits, temperature)\n",
    "\n",
    "        # Sample from the probability distribution\n",
    "        next_token = torch.multinomial(probs, num_samples=1)\n",
    "        \n",
    "        # Append to the sequence\n",
    "        tgt = torch.cat((tgt, next_token), dim=1)\n",
    "\n",
    "        # Check for end token\n",
    "        if next_token.item() == end_token_id:\n",
    "            break\n",
    "\n",
    "    return tgt.squeeze().tolist()"
   ]
  },
  {
   "cell_type": "code",
   "execution_count": 24,
   "metadata": {},
   "outputs": [],
   "source": [
    "max_length = 256\n",
    "temperature = 1.0\n",
    "\n",
    "for i,batch in enumerate(test_dataset):\n",
    "    src_data = batch['input'].to(device)\n",
    "    # tgt_data = src_data[:, 1:].to(device)\n",
    "    src_data = src_data[:-1]\n",
    "    emotion = batch['target'].to(device)\n",
    "\n",
    "    generated_tokens = generate_sequence(transformer, src_data.unsqueeze(0), emotion.unsqueeze(0), max_length, temperature) \n",
    "    if emotion.item() == 0:\n",
    "        emo = 'Q1'\n",
    "    elif emotion.item() == 1:\n",
    "        emo = 'Q2'\n",
    "    elif emotion.item() == 2:\n",
    "        emo = 'Q3'\n",
    "    elif emotion.item() == 3:\n",
    "        emo = 'Q4'\n",
    "    midi_encoder_remi.words_to_midi(generated_tokens,f'generated_music_cond/transformer/{emo}/transformer{i}.mid')\n",
    "    midi_encoder_remi.words_to_midi(torch.tensor(src_data, dtype=torch.long),f'generated_music_cond/original/{emo}/original{i}.mid')\n"
   ]
  },
  {
   "cell_type": "code",
   "execution_count": null,
   "metadata": {},
   "outputs": [],
   "source": [
    "# import os\n",
    "\n",
    "# for emo in ['Q1', 'Q2', 'Q3', 'Q4']:\n",
    "#     dir_name = f\"generated_music_cond/original/{emo}\"\n",
    "#     test = os.listdir(dir_name)\n",
    "\n",
    "#     for item in test:\n",
    "#         if item.endswith(\".mid\"):\n",
    "#             os.remove(os.path.join(dir_name, item))\n",
    "\n",
    "# for emo in ['Q1', 'Q2', 'Q3', 'Q4']:\n",
    "#     dir_name = f\"generated_music_cond/transformer/{emo}\"\n",
    "#     test = os.listdir(dir_name)\n",
    "\n",
    "#     for item in test:\n",
    "#         if item.endswith(\".mid\"):\n",
    "#             os.remove(os.path.join(dir_name, item))\n",
    "\n",
    "# dir_name = \"generated_musics/original\"\n",
    "# test = os.listdir(dir_name)\n",
    "\n",
    "# for item in test:\n",
    "#     if item.endswith(\".mid\"):\n",
    "#         os.remove(os.path.join(dir_name, item))"
   ]
  },
  {
   "cell_type": "code",
   "execution_count": null,
   "metadata": {},
   "outputs": [],
   "source": []
  },
  {
   "cell_type": "code",
   "execution_count": null,
   "metadata": {},
   "outputs": [],
   "source": []
  },
  {
   "cell_type": "code",
   "execution_count": null,
   "metadata": {},
   "outputs": [],
   "source": []
  },
  {
   "cell_type": "markdown",
   "metadata": {},
   "source": [
    "# GAN"
   ]
  },
  {
   "cell_type": "code",
   "execution_count": 25,
   "metadata": {},
   "outputs": [],
   "source": [
    "# build a generator\n",
    "class Generator(nn.Module):\n",
    "    def __init__(self, vocab_size, max_seq_length, d_model, num_heads, num_layers, d_ff, dropout, num_emotions):\n",
    "        super(Generator, self).__init__()\n",
    "        self.transformer = Transformer(vocab_size, vocab_size, d_model, num_heads, num_layers, d_ff, max_seq_length, dropout, num_emotions)\n",
    "        # self.fc = nn.Linear(dim, vocab_size)\n",
    "        \n",
    "    def forward(self, src, tgt, emotion):\n",
    "        output = self.transformer(src, tgt, emotion)\n",
    "        return output"
   ]
  },
  {
   "cell_type": "code",
   "execution_count": 26,
   "metadata": {},
   "outputs": [],
   "source": [
    "class Discriminator(nn.Module):\n",
    "    def __init__(self, vocab_size, max_seq_length, d_model, num_heads, num_layers, d_ff, dropout, num_emotions, num_classes):\n",
    "        super(Discriminator, self).__init__()\n",
    "        self.encoder_embedding = nn.Embedding(vocab_size, d_model)\n",
    "        self.positional_encoding = PositionalEncoding(d_model, max_seq_length)\n",
    "        self.emotion_embedding = nn.Embedding(num_emotions, d_model)\n",
    "        self.encoder_layers = nn.ModuleList([EncoderLayer(d_model, num_heads, d_ff, dropout) for _ in range(num_layers)])\n",
    "        self.fc = nn.Linear(d_model, num_classes)\n",
    "        self.sigmoid = nn.Sigmoid()\n",
    "        self.dropout = nn.Dropout(dropout)\n",
    "\n",
    "    def generate_mask(self, src):\n",
    "        src_mask = (src != 0).unsqueeze(1).unsqueeze(2)\n",
    "        return src_mask\n",
    "\n",
    "    def forward(self, src, emotion):\n",
    "        src_mask = self.generate_mask(src)\n",
    "        src_embedded = self.dropout(self.positional_encoding(self.encoder_embedding(src)) + self.emotion_embedding(emotion).unsqueeze(1))\n",
    "\n",
    "        enc_output = src_embedded\n",
    "        for enc_layer in self.encoder_layers:\n",
    "            enc_output = enc_layer(enc_output, src_mask)\n",
    "\n",
    "        output,_ = torch.max(enc_output, dim=1)\n",
    "        output = self.fc(output)\n",
    "        output = self.sigmoid(output)\n",
    "        return output"
   ]
  },
  {
   "cell_type": "code",
   "execution_count": 27,
   "metadata": {},
   "outputs": [],
   "source": [
    "src_vocab_size = vocab_size\n",
    "tgt_vocab_size = vocab_size\n",
    "d_model = 512\n",
    "num_heads = 8\n",
    "num_layers = 6\n",
    "d_ff = 256\n",
    "max_seq_length = max_seq_len\n",
    "dropout = 0.2\n",
    "epochs = 100\n",
    "num_emotions = 4\n",
    "\n",
    "device = torch.device(\"cuda\" if torch.cuda.is_available() else \"cpu\")"
   ]
  },
  {
   "cell_type": "code",
   "execution_count": 28,
   "metadata": {},
   "outputs": [],
   "source": [
    "# Create the generator\n",
    "netG = Generator(vocab_size, max_seq_length, d_model, num_heads, num_layers, d_ff, dropout, num_emotions).to(device)\n",
    "# Create the Discriminator\n",
    "netD = Discriminator(vocab_size, max_seq_length, d_model, num_heads, num_layers, d_ff, dropout, num_emotions, num_classes=1).to(device)\n",
    "\n",
    "# Initialize the ``BCELoss`` function\n",
    "criterion_BCE = nn.BCELoss()\n",
    "\n",
    "criterion_ce = nn.CrossEntropyLoss()\n",
    "\n",
    "# Create batch of latent vectors that we will use to visualize\n",
    "#  the progression of the generator\n",
    "nz = 100\n",
    "fixed_noise = torch.randn(64, nz, 1, 1, device=device)\n",
    "\n",
    "# Establish convention for real and fake labels during training\n",
    "real_label = 1.\n",
    "fake_label = 0.\n",
    "\n",
    "lr = 0.0002\n",
    "beta1 = 0.5\n",
    "\n",
    "# Setup Adam optimizers for both G and D\n",
    "optimizerD = torch.optim.Adam(netD.parameters(), lr=lr, betas=(beta1, 0.999))\n",
    "optimizerG = torch.optim.Adam(netG.parameters(), lr=lr, betas=(beta1, 0.999))"
   ]
  },
  {
   "cell_type": "code",
   "execution_count": 31,
   "metadata": {},
   "outputs": [],
   "source": [
    "num_epochs = 5\n",
    "temperature = 1.0"
   ]
  },
  {
   "cell_type": "code",
   "execution_count": 32,
   "metadata": {},
   "outputs": [
    {
     "name": "stdout",
     "output_type": "stream",
     "text": [
      "Starting Training Loop...\n",
      "[0/5][63/54]\tLoss_D: 2.8223\tLoss_G: 4.9369\tD(x): 0.9325\tD(G(z)): 0.9337 / 0.9337\n",
      "[0/5][63/54]\tLoss_D: 0.9311\tLoss_G: 0.2281\tD(x): 0.6678\tD(G(z)): 0.2944 / 0.2944\n",
      "[1/5][63/54]\tLoss_D: 1.1180\tLoss_G: 0.1899\tD(x): 0.5534\tD(G(z)): 0.2682 / 0.2682\n",
      "[1/5][63/54]\tLoss_D: 1.1710\tLoss_G: 0.0449\tD(x): 0.6165\tD(G(z)): 0.4097 / 0.4097\n",
      "[2/5][63/54]\tLoss_D: 1.0488\tLoss_G: 0.0424\tD(x): 0.6197\tD(G(z)): 0.3252 / 0.3252\n",
      "[2/5][63/54]\tLoss_D: 1.1939\tLoss_G: 0.0197\tD(x): 0.6377\tD(G(z)): 0.4513 / 0.4513\n",
      "[3/5][63/54]\tLoss_D: 0.9940\tLoss_G: 0.0185\tD(x): 0.6726\tD(G(z)): 0.3784 / 0.3784\n",
      "[3/5][63/54]\tLoss_D: 1.2154\tLoss_G: 0.0114\tD(x): 0.6069\tD(G(z)): 0.4458 / 0.4458\n",
      "[4/5][63/54]\tLoss_D: 0.9741\tLoss_G: 0.0108\tD(x): 0.6188\tD(G(z)): 0.3198 / 0.3198\n",
      "[4/5][63/54]\tLoss_D: 1.2271\tLoss_G: 0.0076\tD(x): 0.5986\tD(G(z)): 0.4394 / 0.4394\n"
     ]
    }
   ],
   "source": [
    "# Training Loop\n",
    "# Lists to keep track of progress\n",
    "txt_list = []\n",
    "G_losses = []\n",
    "D_losses = []\n",
    "iters = 0\n",
    "\n",
    "print(\"Starting Training Loop...\")\n",
    "# For each epoch\n",
    "for epoch in range(num_epochs):\n",
    "    # For each batch in the dataloader\n",
    "    for k, data in enumerate(train_dataloader):\n",
    "        src_data = data['input']\n",
    "        target = src_data[:, 1:].to(device)\n",
    "        input = src_data[:, :-1]\n",
    "        emotion = data['target'].to(device)\n",
    "        ############################\n",
    "        # (1) Update D network: maximize log(D(x)) + log(1 - D(G(z)))\n",
    "        ###########################\n",
    "        ## Train with all-real batch\n",
    "        netD.zero_grad()\n",
    "        # Format batch\n",
    "        real_cpu = input.to(device)\n",
    "        b_size = real_cpu.size(0)\n",
    "        label = torch.full((b_size,), real_label, dtype=torch.float, device=device)\n",
    "        # Forward pass real batch through D\n",
    "        output = netD(real_cpu, emotion).view(-1)\n",
    "        # Calculate loss on all-real batch\n",
    "        errD_real = criterion_BCE(output, label)\n",
    "\n",
    "        # Calculate gradients for D in backward pass\n",
    "        errD_real.backward()\n",
    "        D_x = output.mean().item()\n",
    "\n",
    "        ## Train with all-fake batch\n",
    "        # Generate batch of latent vectors\n",
    "        # noise = torch.randn(b_size, nz, 1, 1, device=device)\n",
    "        # Generate fake image batch with G\n",
    "        fake = netG(real_cpu, target, emotion)\n",
    "        fake_probabilities = nn.functional.softmax(fake.squeeze(), dim=-1)\n",
    "        fake_mat = torch.zeros((b_size, max_seq_length), dtype=torch.long).to(device)\n",
    "        for i in range(b_size):\n",
    "            for j in range(max_seq_length):\n",
    "                fake_mat[i][j] = torch.multinomial(fake_probabilities[i][j], 1).item()\n",
    "        \n",
    "        label.fill_(fake_label)\n",
    "        # Classify all fake batch with D\n",
    "        output = netD(fake_mat, emotion).view(-1)\n",
    "        # Calculate D's loss on the all-fake batch\n",
    "        errD_fake = criterion_BCE(output, label)\n",
    "        # Calculate the gradients for this batch, accumulated (summed) with previous gradients\n",
    "        errD_fake.backward()\n",
    "        D_G_z1 = output.mean().item()\n",
    "        # Compute error of D as sum over the fake and the real batches\n",
    "        errD = errD_real + errD_fake\n",
    "        # Update D\n",
    "        optimizerD.step()\n",
    "\n",
    "        ############################\n",
    "        # (2) Update G network: maximize log(D(G(z)))\n",
    "        ###########################\n",
    "        netG.zero_grad()\n",
    "        label.fill_(real_label)  # fake labels are real for generator cost\n",
    "        # Since we just updated D, perform another forward pass of all-fake batch through D\n",
    "        # output = netD(fake_mat).view(-1)\n",
    "        # Calculate G's loss based on this output\n",
    "        # errG = criterion(output, label)\n",
    "        errG = criterion_ce(fake.view(-1, vocab_size), target.view(-1))\n",
    "        # Calculate gradients for G\n",
    "        errG.backward()\n",
    "        D_G_z2 = output.mean().item()\n",
    "        # Update G\n",
    "        optimizerG.step()\n",
    "\n",
    "        # Output training stats\n",
    "        if k % 50 == 0:\n",
    "            print('[%d/%d][%d/%d]\\tLoss_D: %.4f\\tLoss_G: %.4f\\tD(x): %.4f\\tD(G(z)): %.4f / %.4f'\n",
    "                  % (epoch, num_epochs, i, len(train_dataloader),\n",
    "                     errD.item(), errG.item(), D_x, D_G_z1, D_G_z2))\n",
    "\n",
    "        # Save Losses for plotting later\n",
    "        G_losses.append(errG.item())\n",
    "        D_losses.append(errD.item())\n",
    "\n",
    "        # Check how the generator is doing by saving G's output on fixed_noise\n",
    "        if (iters % 500 == 0) or ((epoch == num_epochs-1) and (i == len(train_dataloader)-1)):\n",
    "            with torch.no_grad():\n",
    "                fake = netG(real_cpu, target, emotion).detach().cpu()\n",
    "            fake_probabilities = softmax(fake.squeeze() / temperature, dim=-1)\n",
    "            fake_mat = torch.zeros((b_size, max_seq_length), dtype=torch.long).to(device)\n",
    "            for i in range(b_size):\n",
    "                for j in range(max_seq_length):\n",
    "                    fake_mat[i][j] = torch.multinomial(fake_probabilities[i][j], 1).item()\n",
    "            txt_list.append(fake_mat)\n",
    "\n",
    "        iters += 1"
   ]
  },
  {
   "cell_type": "code",
   "execution_count": 33,
   "metadata": {},
   "outputs": [
    {
     "data": {
      "image/png": "[encoded data removed]",
      "text/plain": [
       "<Figure size 640x480 with 1 Axes>"
      ]
     },
     "metadata": {
      "image/png": {
       "height": 454,
       "width": 554
      }
     },
     "output_type": "display_data"
    }
   ],
   "source": [
    "# plot losses\n",
    "import matplotlib.pyplot as plt\n",
    "%config InlineBackend.figure_format = 'retina' # Makes the plots clear on high-res screens\n",
    "plt.plot(G_losses, label='G_losses')\n",
    "plt.plot(D_losses, label='D_losses')\n",
    "plt.xlabel('Steps')\n",
    "plt.ylabel('Loss')\n",
    "plt.title(\"Transformer Gan\")\n",
    "plt.legend(frameon=False)\n",
    "plt.tight_layout\n",
    "plt.show()"
   ]
  },
  {
   "cell_type": "code",
   "execution_count": 34,
   "metadata": {},
   "outputs": [],
   "source": [
    "torch.save(netG.state_dict(), \"checkpoints/generator_cond.pt\")"
   ]
  },
  {
   "cell_type": "code",
   "execution_count": 38,
   "metadata": {},
   "outputs": [],
   "source": [
    "def generate_sequence(model, prompt, emotion, max_length, temperature=1.0):\n",
    "    model.eval()  # Set the model to inference mode\n",
    "\n",
    "    # Tokenize the prompt\n",
    "    src = prompt.to(device)\n",
    "    tgt = src[:,0].unsqueeze(1).to(device)  \n",
    "\n",
    "    for i in range(max_length):\n",
    "        # Forward pass through the model\n",
    "        output = model(src, tgt, emotion)  # Add emotion as required\n",
    "        logits = output[:, -1, :]  # Consider only the last token's output\n",
    "\n",
    "        # Apply temperature scaling\n",
    "        probs = softmax_with_temperature(logits, temperature)\n",
    "\n",
    "        # Sample from the probability distribution\n",
    "        next_token = torch.multinomial(probs, num_samples=1)\n",
    "        \n",
    "        # Append to the sequence\n",
    "        tgt = torch.cat((tgt, next_token), dim=1)\n",
    "\n",
    "        # Check for end token\n",
    "        if next_token.item() == end_token_id:\n",
    "            break\n",
    "\n",
    "    return tgt.squeeze().tolist()"
   ]
  },
  {
   "cell_type": "code",
   "execution_count": 1,
   "metadata": {},
   "outputs": [],
   "source": [
    "for i,batch in enumerate(test_dataset):\n",
    "    src_data = batch['input'].to(device)\n",
    "    # tgt_data = src_data[:, 1:].to(device)\n",
    "    src_data = src_data[:-1]\n",
    "    emotion = batch['target'].to(device)\n",
    "\n",
    "    generated_tokens = generate_sequence(netG, src_data.unsqueeze(0), emotion.unsqueeze(0), max_length=256) \n",
    "    if emotion.item() == 0:\n",
    "        emo = 'Q1'\n",
    "    elif emotion.item() == 1:\n",
    "        emo = 'Q2'\n",
    "    elif emotion.item() == 2:\n",
    "        emo = 'Q3'\n",
    "    elif emotion.item() == 3:\n",
    "        emo = 'Q4'\n",
    "    # midi_encoder_remi.words_to_midi(generated_tokens,f'generated_music_cond/transformer_gan/{emo}/transformer_gan{i}.mid')\n",
    "    # midi_encoder_remi.words_to_midi(src_data,f'generated_music_cond/original/{emo}/original{i}.mid')\n",
    "    print(src_data)\n",
    "    print(generated_tokens)"
   ]
  },
  {
   "cell_type": "code",
   "execution_count": null,
   "metadata": {},
   "outputs": [],
   "source": []
  }
 ],
 "metadata": {
  "kernelspec": {
   "display_name": "Python 3",
   "language": "python",
   "name": "python3"
  },
  "language_info": {
   "codemirror_mode": {
    "name": "ipython",
    "version": 3
   },
   "file_extension": ".py",
   "mimetype": "text/x-python",
   "name": "python",
   "nbconvert_exporter": "python",
   "pygments_lexer": "ipython3",
   "version": "3.8.10"
  }
 },
 "nbformat": 4,
 "nbformat_minor": 2
}
