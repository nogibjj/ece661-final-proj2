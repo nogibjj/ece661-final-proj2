{
 "cells": [
  {
   "cell_type": "code",
   "execution_count": 1,
   "metadata": {},
   "outputs": [],
   "source": [
    "import muspy\n",
    "import os\n",
    "from data.process_data import MidiEncoder, MIDIEncoderREMI\n",
    "import pickle as pkl\n",
    "from torch.utils.data import DataLoader\n",
    "from data.dataset import TransformerDatasetREMI\n",
    "from data.dataset import ClassifierDataset\n",
    "import numpy as np\n",
    "import glob\n",
    "import torch"
   ]
  },
  {
   "cell_type": "code",
   "execution_count": 2,
   "metadata": {},
   "outputs": [
    {
     "name": "stderr",
     "output_type": "stream",
     "text": [
      "/workspaces/ece661-final-proj2/data/dataset.py:170: UserWarning: Creating a tensor from a list of numpy.ndarrays is extremely slow. Please consider converting the list to a single numpy.ndarray with numpy.array() before converting to a tensor. (Triggered internally at ../torch/csrc/utils/tensor_new.cpp:261.)\n",
      "  self.sequences = torch.Tensor(self.sequences)\n"
     ]
    }
   ],
   "source": [
    "single_file_dataset_path = \"data/single_file_dataset.npz\"\n",
    "path_to_midi = \"data/emopia/EMOPIA_2.2/midis/\"\n",
    "\n",
    "max_seq_len = 256\n",
    "midi_files_list = [os.path.join(path_to_midi, file) for file in os.listdir(path_to_midi) if file.endswith(\".mid\")]\n",
    "midi_encoder_remi = MIDIEncoderREMI(dict_path=\"data/encoder_dict.pkl\", midi_files_list=midi_files_list)\n",
    "dataset = TransformerDatasetREMI(single_file_dataset_path, seq_len=max_seq_len)\n",
    "classifier_dataset = ClassifierDataset(single_file_dataset_path, seq_len=max_seq_len, labels_path=\"data/emopia/EMOPIA_2.2/label.csv\")"
   ]
  },
  {
   "cell_type": "code",
   "execution_count": 3,
   "metadata": {},
   "outputs": [],
   "source": [
    "Q1, Q2, Q3, Q4 = [], [], [], []\n",
    "for dic in classifier_dataset:\n",
    "    label = dic['target']\n",
    "    if label == 0:\n",
    "        Q1.append(dic)\n",
    "    elif label == 1:\n",
    "        Q2.append(dic)\n",
    "    elif label == 2:\n",
    "        Q3.append(dic)\n",
    "    elif label == 3:\n",
    "        Q4.append(dic)"
   ]
  },
  {
   "cell_type": "code",
   "execution_count": 4,
   "metadata": {},
   "outputs": [],
   "source": [
    "classifier_valid = {'Q1': Q1, 'Q2': Q2, 'Q3': Q3, 'Q4': Q4}"
   ]
  },
  {
   "cell_type": "code",
   "execution_count": 5,
   "metadata": {},
   "outputs": [],
   "source": [
    "for c in classifier_valid.keys():\n",
    "    for i in range(len(classifier_valid[c])):\n",
    "        midi_encoder_remi.words_to_midi(classifier_valid[c][i]['input'].numpy(),f'generated_musics/original_by_emotion/{c}/original{i}.mid')"
   ]
  },
  {
   "cell_type": "code",
   "execution_count": 6,
   "metadata": {},
   "outputs": [
    {
     "name": "stdout",
     "output_type": "stream",
     "text": [
      "Error in original101.mid\n",
      "Error in original502.mid\n",
      "Error in original337.mid\n",
      "Error in original103.mid\n"
     ]
    }
   ],
   "source": [
    "emopia_overall = {'pitch_range':[],'n_pitch':[],'polyphony':[]}\n",
    "dir_name = \"generated_musics/original\"\n",
    "emopia_overall_dir = os.listdir(dir_name)\n",
    "\n",
    "for item in emopia_overall_dir:\n",
    "    music = muspy.read_midi(f\"{dir_name}/{item}\")\n",
    "    try:\n",
    "        pr = muspy.pitch_range(music)\n",
    "        nps = muspy.n_pitches_used(music)\n",
    "        poly = muspy.polyphony(music)\n",
    "        emopia_overall['pitch_range'].append(pr)\n",
    "        emopia_overall['n_pitch'].append(nps)\n",
    "        emopia_overall['polyphony'].append(poly)\n",
    "    except:\n",
    "        print(f\"Error in {item}\")\n",
    "        pass\n",
    "\n",
    "    "
   ]
  },
  {
   "cell_type": "code",
   "execution_count": 7,
   "metadata": {},
   "outputs": [
    {
     "name": "stdout",
     "output_type": "stream",
     "text": [
      "pitch_range 43.261428571428574\n",
      "n_pitch 17.81714285714286\n",
      "polyphony 5.3746048750429445\n"
     ]
    }
   ],
   "source": [
    "for key in emopia_overall.keys():\n",
    "    print(key, np.mean(emopia_overall[key]))"
   ]
  },
  {
   "cell_type": "code",
   "execution_count": 8,
   "metadata": {},
   "outputs": [
    {
     "name": "stdout",
     "output_type": "stream",
     "text": [
      "Error in original320.mid\n",
      "Error in original174.mid\n",
      "Error in original543.mid\n",
      "Error in original1237.mid\n",
      "Error in original752.mid\n",
      "Error in original269.mid\n",
      "Error in original936.mid\n",
      "Error in original654.mid\n",
      "Error in original672.mid\n",
      "Error in original767.mid\n",
      "Error in original710.mid\n",
      "Error in original414.mid\n",
      "Error in original785.mid\n",
      "Error in original517.mid\n",
      "Error in original878.mid\n"
     ]
    }
   ],
   "source": [
    "emopia_by_emotion = {'Q1': {'pitch_range':[],'n_pitch':[],'polyphony':[]},\n",
    "                     'Q2': {'pitch_range':[],'n_pitch':[],'polyphony':[]},\n",
    "                     'Q3': {'pitch_range':[],'n_pitch':[],'polyphony':[]},\n",
    "                     'Q4': {'pitch_range':[],'n_pitch':[],'polyphony':[]}}\n",
    "dir_name = \"generated_musics/original_by_emotion\"\n",
    "for emo in emopia_by_emotion.keys():\n",
    "    emopia_byemo_dir = os.listdir(f\"{dir_name}/{emo}\")\n",
    "    for item in emopia_byemo_dir:\n",
    "        try:\n",
    "            music = muspy.read_midi(f\"{dir_name}/{emo}/{item}\")\n",
    "            pr = muspy.pitch_range(music)\n",
    "            nps = muspy.n_pitches_used(music)\n",
    "            poly = muspy.polyphony(music)\n",
    "            emopia_by_emotion[emo]['pitch_range'].append(pr)\n",
    "            emopia_by_emotion[emo]['n_pitch'].append(nps)\n",
    "            emopia_by_emotion[emo]['polyphony'].append(poly)\n",
    "        except:\n",
    "            print(f\"Error in {item}\")\n",
    "            pass\n"
   ]
  },
  {
   "cell_type": "code",
   "execution_count": 9,
   "metadata": {},
   "outputs": [
    {
     "name": "stdout",
     "output_type": "stream",
     "text": [
      "Q1\n",
      "pitch_range 47.574350904799374\n",
      "n_pitch 19.737214791502755\n",
      "polyphony 5.414210356668756\n",
      "\n",
      "\n",
      "Q2\n",
      "pitch_range 46.905475504322766\n",
      "n_pitch 17.68242074927954\n",
      "polyphony 5.616917482127667\n",
      "\n",
      "\n",
      "Q3\n",
      "pitch_range 37.71871657754011\n",
      "n_pitch 15.267379679144385\n",
      "polyphony 4.958354562432899\n",
      "\n",
      "\n",
      "Q4\n",
      "pitch_range 36.547064305685\n",
      "n_pitch 16.64864864864865\n",
      "polyphony 4.888195731758388\n",
      "\n",
      "\n"
     ]
    }
   ],
   "source": [
    "for emo in emopia_by_emotion.keys():\n",
    "    print(emo)\n",
    "    for key in emopia_by_emotion[emo].keys():\n",
    "        print(key, np.mean(emopia_by_emotion[emo][key]))\n",
    "    print(\"\\n\")"
   ]
  },
  {
   "cell_type": "code",
   "execution_count": 10,
   "metadata": {},
   "outputs": [
    {
     "name": "stdout",
     "output_type": "stream",
     "text": [
      "Error in transformer103.mid\n",
      "Error in transformer377.mid\n",
      "Error in transformer502.mid\n",
      "Error in transformer449.mid\n",
      "Error in transformer101.mid\n",
      "Error in transformer580.mid\n",
      "Error in transformer337.mid\n",
      "Error in transformer583.mid\n",
      "Error in transformer498.mid\n"
     ]
    }
   ],
   "source": [
    "transformer_1_overall = {'pitch_range':[],'n_pitch':[],'polyphony':[]}\n",
    "dir_name = \"generated_musics/transformer_1\"\n",
    "transformer_1_overall_dir = os.listdir(dir_name)\n",
    "\n",
    "for item in transformer_1_overall_dir:\n",
    "    music = muspy.read_midi(f\"{dir_name}/{item}\")\n",
    "    try:\n",
    "        pr = muspy.pitch_range(music)\n",
    "        nps = muspy.n_pitches_used(music)\n",
    "        poly = muspy.polyphony(music)\n",
    "        transformer_1_overall['pitch_range'].append(pr)\n",
    "        transformer_1_overall['n_pitch'].append(nps)\n",
    "        transformer_1_overall['polyphony'].append(poly)\n",
    "    except:\n",
    "        print(f\"Error in {item}\")\n",
    "        pass\n",
    "\n",
    "    "
   ]
  },
  {
   "cell_type": "code",
   "execution_count": 11,
   "metadata": {},
   "outputs": [
    {
     "name": "stdout",
     "output_type": "stream",
     "text": [
      "pitch_range 55.048920863309355\n",
      "n_pitch 29.04748201438849\n",
      "polyphony 4.052149292902192\n"
     ]
    }
   ],
   "source": [
    "for key in transformer_1_overall.keys():\n",
    "    print(key, np.mean(transformer_1_overall[key]))"
   ]
  },
  {
   "cell_type": "code",
   "execution_count": 12,
   "metadata": {},
   "outputs": [
    {
     "name": "stdout",
     "output_type": "stream",
     "text": [
      "Error in transformer1149.mid\n",
      "Error in transformer320.mid\n",
      "Error in transformer1032.mid\n",
      "Error in transformer675.mid\n",
      "Error in transformer174.mid\n",
      "Error in transformer564.mid\n",
      "Error in transformer543.mid\n",
      "Error in transformer497.mid\n",
      "Error in transformer490.mid\n",
      "Error in transformer523.mid\n",
      "Error in transformer917.mid\n",
      "Error in transformer269.mid\n",
      "Error in transformer752.mid\n",
      "Error in transformer845.mid\n",
      "Error in transformer1456.mid\n",
      "Error in transformer1237.mid\n",
      "Error in transformer428.mid\n",
      "Error in transformer936.mid\n",
      "Error in transformer286.mid\n",
      "Error in transformer654.mid\n",
      "Error in transformer274.mid\n",
      "Error in transformer651.mid\n",
      "Error in transformer662.mid\n",
      "Error in transformer767.mid\n",
      "Error in transformer752.mid\n",
      "Error in transformer621.mid\n",
      "Error in transformer84.mid\n",
      "Error in transformer188.mid\n",
      "Error in transformer578.mid\n",
      "Error in transformer758.mid\n",
      "Error in transformer672.mid\n",
      "Error in transformer427.mid\n",
      "Error in transformer878.mid\n",
      "Error in transformer785.mid\n",
      "Error in transformer787.mid\n",
      "Error in transformer517.mid\n",
      "Error in transformer586.mid\n",
      "Error in transformer710.mid\n",
      "Error in transformer414.mid\n",
      "Error in transformer281.mid\n",
      "Error in transformer1035.mid\n",
      "Error in transformer206.mid\n",
      "Error in transformer210.mid\n",
      "Error in transformer1003.mid\n"
     ]
    }
   ],
   "source": [
    "trans1_by_emotion = {'Q1': {'pitch_range':[],'n_pitch':[],'polyphony':[]},\n",
    "                     'Q2': {'pitch_range':[],'n_pitch':[],'polyphony':[]},\n",
    "                     'Q3': {'pitch_range':[],'n_pitch':[],'polyphony':[]},\n",
    "                     'Q4': {'pitch_range':[],'n_pitch':[],'polyphony':[]}}\n",
    "dir_name = \"generated_musics/transformer_1_by_emotion\"\n",
    "for emo in trans1_by_emotion.keys():\n",
    "    trans1_byemo_dir = os.listdir(f\"{dir_name}/{emo}\")\n",
    "    for item in trans1_byemo_dir:\n",
    "        try:\n",
    "            music = muspy.read_midi(f\"{dir_name}/{emo}/{item}\")\n",
    "            pr = muspy.pitch_range(music)\n",
    "            nps = muspy.n_pitches_used(music)\n",
    "            poly = muspy.polyphony(music)\n",
    "            trans1_by_emotion[emo]['pitch_range'].append(pr)\n",
    "            trans1_by_emotion[emo]['n_pitch'].append(nps)\n",
    "            trans1_by_emotion[emo]['polyphony'].append(poly)\n",
    "        except:\n",
    "            print(f\"Error in {item}\")\n",
    "            pass\n"
   ]
  },
  {
   "cell_type": "code",
   "execution_count": 13,
   "metadata": {},
   "outputs": [
    {
     "name": "stdout",
     "output_type": "stream",
     "text": [
      "Q1\n",
      "pitch_range 58.1076801266825\n",
      "n_pitch 30.682501979414095\n",
      "polyphony 4.113147097485572\n",
      "\n",
      "\n",
      "Q2\n",
      "pitch_range 58.30600461893764\n",
      "n_pitch 30.888568129330253\n",
      "polyphony 4.145721793599386\n",
      "\n",
      "\n",
      "Q3\n",
      "pitch_range 50.79027027027027\n",
      "n_pitch 27.14918918918919\n",
      "polyphony 3.8971245032107573\n",
      "\n",
      "\n",
      "Q4\n",
      "pitch_range 50.054460093896715\n",
      "n_pitch 27.193427230046947\n",
      "polyphony 3.8146015785774168\n",
      "\n",
      "\n"
     ]
    }
   ],
   "source": [
    "for emo in trans1_by_emotion.keys():\n",
    "    print(emo)\n",
    "    for key in trans1_by_emotion[emo].keys():\n",
    "        print(key, np.mean(trans1_by_emotion[emo][key]))\n",
    "    print(\"\\n\")"
   ]
  },
  {
   "cell_type": "code",
   "execution_count": 14,
   "metadata": {},
   "outputs": [
    {
     "name": "stdout",
     "output_type": "stream",
     "text": [
      "Error in transformer103.mid\n",
      "Error in transformer502.mid\n",
      "Error in transformer101.mid\n",
      "Error in transformer337.mid\n",
      "Error in transformer80.mid\n"
     ]
    }
   ],
   "source": [
    "transformer_2_overall = {'pitch_range':[],'n_pitch':[],'polyphony':[]}\n",
    "dir_name = \"generated_musics/transformer_2\"\n",
    "transformer_2_overall_dir = os.listdir(dir_name)\n",
    "\n",
    "for item in transformer_2_overall_dir:\n",
    "    music = muspy.read_midi(f\"{dir_name}/{item}\")\n",
    "    try:\n",
    "        pr = muspy.pitch_range(music)\n",
    "        nps = muspy.n_pitches_used(music)\n",
    "        poly = muspy.polyphony(music)\n",
    "        transformer_2_overall['pitch_range'].append(pr)\n",
    "        transformer_2_overall['n_pitch'].append(nps)\n",
    "        transformer_2_overall['polyphony'].append(poly)\n",
    "    except:\n",
    "        print(f\"Error in {item}\")\n",
    "        pass"
   ]
  },
  {
   "cell_type": "code",
   "execution_count": 15,
   "metadata": {},
   "outputs": [
    {
     "name": "stdout",
     "output_type": "stream",
     "text": [
      "pitch_range 43.433476394849784\n",
      "n_pitch 17.90557939914163\n",
      "polyphony 5.37540741898455\n"
     ]
    }
   ],
   "source": [
    "for key in transformer_2_overall.keys():\n",
    "    print(key, np.mean(transformer_2_overall[key]))"
   ]
  },
  {
   "cell_type": "code",
   "execution_count": 16,
   "metadata": {},
   "outputs": [
    {
     "name": "stdout",
     "output_type": "stream",
     "text": [
      "Error in transformer320.mid\n",
      "Error in transformer764.mid\n",
      "Error in transformer1032.mid\n",
      "Error in transformer646.mid\n",
      "Error in transformer174.mid\n",
      "Error in transformer543.mid\n",
      "Error in transformer269.mid\n",
      "Error in transformer1401.mid\n",
      "Error in transformer931.mid\n",
      "Error in transformer752.mid\n",
      "Error in transformer1237.mid\n",
      "Error in transformer811.mid\n",
      "Error in transformer936.mid\n",
      "Error in transformer654.mid\n",
      "Error in transformer274.mid\n",
      "Error in transformer229.mid\n",
      "Error in transformer767.mid\n",
      "Error in transformer84.mid\n",
      "Error in transformer578.mid\n",
      "Error in transformer672.mid\n",
      "Error in transformer878.mid\n",
      "Error in transformer785.mid\n",
      "Error in transformer517.mid\n",
      "Error in transformer710.mid\n",
      "Error in transformer414.mid\n",
      "Error in transformer989.mid\n"
     ]
    }
   ],
   "source": [
    "trans2_by_emotion = {'Q1': {'pitch_range':[],'n_pitch':[],'polyphony':[]},\n",
    "                     'Q2': {'pitch_range':[],'n_pitch':[],'polyphony':[]},\n",
    "                     'Q3': {'pitch_range':[],'n_pitch':[],'polyphony':[]},\n",
    "                     'Q4': {'pitch_range':[],'n_pitch':[],'polyphony':[]}}\n",
    "dir_name = \"generated_musics/transformer_2_by_emotion\"\n",
    "for emo in trans2_by_emotion.keys():\n",
    "    trans2_byemo_dir = os.listdir(f\"{dir_name}/{emo}\")\n",
    "    for item in trans2_byemo_dir:\n",
    "        try:\n",
    "            music = muspy.read_midi(f\"{dir_name}/{emo}/{item}\")\n",
    "            pr = muspy.pitch_range(music)\n",
    "            nps = muspy.n_pitches_used(music)\n",
    "            poly = muspy.polyphony(music)\n",
    "            trans2_by_emotion[emo]['pitch_range'].append(pr)\n",
    "            trans2_by_emotion[emo]['n_pitch'].append(nps)\n",
    "            trans2_by_emotion[emo]['polyphony'].append(poly)\n",
    "        except:\n",
    "            print(f\"Error in {item}\")\n",
    "            pass\n"
   ]
  },
  {
   "cell_type": "code",
   "execution_count": 17,
   "metadata": {},
   "outputs": [
    {
     "name": "stdout",
     "output_type": "stream",
     "text": [
      "Q1\n",
      "pitch_range 47.639589905362776\n",
      "n_pitch 19.752365930599368\n",
      "polyphony 5.411469486303929\n",
      "\n",
      "\n",
      "Q2\n",
      "pitch_range 46.93822170900693\n",
      "n_pitch 17.672632794457275\n",
      "polyphony 5.61222353291307\n",
      "\n",
      "\n",
      "Q3\n",
      "pitch_range 37.76799140708915\n",
      "n_pitch 15.28141783029001\n",
      "polyphony 4.961917761659654\n",
      "\n",
      "\n",
      "Q4\n",
      "pitch_range 36.48694029850746\n",
      "n_pitch 16.619402985074625\n",
      "polyphony 4.868359148512695\n",
      "\n",
      "\n"
     ]
    }
   ],
   "source": [
    "for emo in trans2_by_emotion.keys():\n",
    "    print(emo)\n",
    "    for key in trans2_by_emotion[emo].keys():\n",
    "        print(key, np.mean(trans2_by_emotion[emo][key]))\n",
    "    print(\"\\n\")"
   ]
  },
  {
   "cell_type": "code",
   "execution_count": 18,
   "metadata": {},
   "outputs": [
    {
     "name": "stdout",
     "output_type": "stream",
     "text": [
      "Error in gan103.mid\n",
      "Error in gan204.mid\n",
      "Error in gan359.mid\n",
      "Error in gan337.mid\n",
      "Error in gan189.mid\n",
      "Error in gan502.mid\n",
      "Error in gan101.mid\n",
      "Error in gan397.mid\n"
     ]
    }
   ],
   "source": [
    "gan_overall = {'pitch_range':[],'n_pitch':[],'polyphony':[]}\n",
    "dir_name = \"generated_musics/gan\"\n",
    "gan_overall_dir = os.listdir(dir_name)\n",
    "\n",
    "for item in gan_overall_dir:\n",
    "    music = muspy.read_midi(f\"{dir_name}/{item}\")\n",
    "    try:\n",
    "        pr = muspy.pitch_range(music)\n",
    "        nps = muspy.n_pitches_used(music)\n",
    "        poly = muspy.polyphony(music)\n",
    "        gan_overall['pitch_range'].append(pr)\n",
    "        gan_overall['n_pitch'].append(nps)\n",
    "        gan_overall['polyphony'].append(poly)\n",
    "    except:\n",
    "        print(f\"Error in {item}\")\n",
    "        pass"
   ]
  },
  {
   "cell_type": "code",
   "execution_count": 19,
   "metadata": {},
   "outputs": [
    {
     "name": "stdout",
     "output_type": "stream",
     "text": [
      "pitch_range 56.67097701149425\n",
      "n_pitch 27.339080459770116\n",
      "polyphony 3.5918343215947663\n"
     ]
    }
   ],
   "source": [
    "for key in gan_overall.keys():\n",
    "    print(key, np.mean(gan_overall[key]))"
   ]
  },
  {
   "cell_type": "code",
   "execution_count": 20,
   "metadata": {},
   "outputs": [
    {
     "name": "stdout",
     "output_type": "stream",
     "text": [
      "Error in transformer1094.mid\n"
     ]
    },
    {
     "name": "stdout",
     "output_type": "stream",
     "text": [
      "Error in transformer520.mid\n",
      "Error in transformer480.mid\n",
      "Error in transformer320.mid\n",
      "Error in transformer1126.mid\n",
      "Error in transformer414.mid\n",
      "Error in transformer1032.mid\n",
      "Error in transformer174.mid\n",
      "Error in transformer550.mid\n",
      "Error in transformer146.mid\n",
      "Error in transformer543.mid\n",
      "Error in transformer1072.mid\n",
      "Error in transformer318.mid\n",
      "Error in transformer1094.mid\n",
      "Error in transformer269.mid\n",
      "Error in transformer1450.mid\n",
      "Error in transformer581.mid\n",
      "Error in transformer1420.mid\n",
      "Error in transformer958.mid\n",
      "Error in transformer1542.mid\n",
      "Error in transformer931.mid\n",
      "Error in transformer572.mid\n",
      "Error in transformer491.mid\n",
      "Error in transformer175.mid\n",
      "Error in transformer752.mid\n",
      "Error in transformer1594.mid\n",
      "Error in transformer768.mid\n",
      "Error in transformer1237.mid\n",
      "Error in transformer515.mid\n",
      "Error in transformer259.mid\n",
      "Error in transformer811.mid\n",
      "Error in transformer1184.mid\n",
      "Error in transformer936.mid\n",
      "Error in transformer654.mid\n",
      "Error in transformer791.mid\n",
      "Error in transformer274.mid\n",
      "Error in transformer47.mid\n",
      "Error in transformer296.mid\n",
      "Error in transformer935.mid\n",
      "Error in transformer142.mid\n",
      "Error in transformer662.mid\n",
      "Error in transformer767.mid\n",
      "Error in transformer126.mid\n",
      "Error in transformer84.mid\n",
      "Error in transformer102.mid\n",
      "Error in transformer578.mid\n",
      "Error in transformer191.mid\n",
      "Error in transformer855.mid\n",
      "Error in transformer672.mid\n",
      "Error in transformer386.mid\n",
      "Error in transformer200.mid\n",
      "Error in transformer878.mid\n",
      "Error in transformer785.mid\n",
      "Error in transformer108.mid\n",
      "Error in transformer858.mid\n",
      "Error in transformer145.mid\n",
      "Error in transformer505.mid\n",
      "Error in transformer517.mid\n",
      "Error in transformer710.mid\n",
      "Error in transformer414.mid\n",
      "Error in transformer621.mid\n",
      "Error in transformer178.mid\n",
      "Error in transformer0.mid\n",
      "Error in transformer959.mid\n",
      "Error in transformer864.mid\n",
      "Error in transformer1003.mid\n",
      "Error in transformer1020.mid\n"
     ]
    }
   ],
   "source": [
    "gan_by_emotion = {'Q1': {'pitch_range':[],'n_pitch':[],'polyphony':[]},\n",
    "                     'Q2': {'pitch_range':[],'n_pitch':[],'polyphony':[]},\n",
    "                     'Q3': {'pitch_range':[],'n_pitch':[],'polyphony':[]},\n",
    "                     'Q4': {'pitch_range':[],'n_pitch':[],'polyphony':[]}}\n",
    "dir_name = \"generated_musics/gan_by_emotion\"\n",
    "for emo in gan_by_emotion.keys():\n",
    "    gan_byemo_dir = os.listdir(f\"{dir_name}/{emo}\")\n",
    "    for item in gan_byemo_dir:\n",
    "        try:\n",
    "            music = muspy.read_midi(f\"{dir_name}/{emo}/{item}\")\n",
    "            pr = muspy.pitch_range(music)\n",
    "            nps = muspy.n_pitches_used(music)\n",
    "            poly = muspy.polyphony(music)\n",
    "            gan_by_emotion[emo]['pitch_range'].append(pr)\n",
    "            gan_by_emotion[emo]['n_pitch'].append(nps)\n",
    "            gan_by_emotion[emo]['polyphony'].append(poly)\n",
    "        except:\n",
    "            print(f\"Error in {item}\")\n",
    "            pass\n"
   ]
  },
  {
   "cell_type": "code",
   "execution_count": 21,
   "metadata": {},
   "outputs": [
    {
     "name": "stdout",
     "output_type": "stream",
     "text": [
      "Q1\n",
      "pitch_range 57.549563838223634\n",
      "n_pitch 27.980174464710547\n",
      "polyphony 3.700830123397939\n",
      "\n",
      "\n",
      "Q2\n",
      "pitch_range 58.53403141361257\n",
      "n_pitch 28.900523560209425\n",
      "polyphony 3.7874147616796545\n",
      "\n",
      "\n",
      "Q3\n",
      "pitch_range 53.865363735070574\n",
      "n_pitch 26.429967426710096\n",
      "polyphony 3.5584457506184344\n",
      "\n",
      "\n",
      "Q4\n",
      "pitch_range 53.79359095193214\n",
      "n_pitch 26.311027332704995\n",
      "polyphony 3.586004278101206\n",
      "\n",
      "\n"
     ]
    }
   ],
   "source": [
    "for emo in gan_by_emotion.keys():\n",
    "    print(emo)\n",
    "    for key in gan_by_emotion[emo].keys():\n",
    "        print(key, np.mean(gan_by_emotion[emo][key]))\n",
    "    print(\"\\n\")"
   ]
  },
  {
   "cell_type": "code",
   "execution_count": null,
   "metadata": {},
   "outputs": [],
   "source": []
  }
 ],
 "metadata": {
  "kernelspec": {
   "display_name": "venv",
   "language": "python",
   "name": "python3"
  },
  "language_info": {
   "codemirror_mode": {
    "name": "ipython",
    "version": 3
   },
   "file_extension": ".py",
   "mimetype": "text/x-python",
   "name": "python",
   "nbconvert_exporter": "python",
   "pygments_lexer": "ipython3",
   "version": "3.8.10"
  }
 },
 "nbformat": 4,
 "nbformat_minor": 2
}
