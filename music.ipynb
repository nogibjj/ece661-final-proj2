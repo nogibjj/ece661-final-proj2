{
 "cells": [
  {
   "cell_type": "code",
   "execution_count": 1,
   "metadata": {},
   "outputs": [
    {
     "data": {
      "text/html": [
       "\n",
       "                <div id=\"midiPlayerDiv1030\"></div>\n",
       "                <link rel=\"stylesheet\" href=\"https://cuthbertLab.github.io/music21j/css/m21.css\">\n",
       "                \n",
       "                <script>\n",
       "                require.config({\n",
       "                    paths: {\n",
       "                        'music21': 'https://cuthbertLab.github.io/music21j/releases/music21.debug',\n",
       "                    }\n",
       "                });\n",
       "                require(['music21'], function(music21) {\n",
       "                    mp = new music21.miditools.MidiPlayer();\n",
       "                    mp.addPlayer(\"#midiPlayerDiv1030\");\n",
       "                    mp.base64Load(\"data:audio/midi;base64,TVRoZAAAAAYAAQACBABNVHJrAAAAFAD/UQMHoSAA/1gEBAIYCIgA/y8ATVRyawAAAkQA/wMFUGlhbm8AwAAA4ABAAMAAigCQOVAAkC1QggCQOVAAkChAAJA0TACQNVQAkD5UAJA7UACQKViCAIA5AACQKzgAkC1AAJA5RACQNzyBK4A5AACALQBVgCsAAJArOIIAkCY8ggCAKAAAgDQAAIA1AACAPgAAgDsAAIApAACALQAAgDkAAIA3AACAKwAAgCYAAJBGaACQK2AAkB9UhACARgAAkFJQAJBGVIIAgFIAAIBGAACQSkiCAIBKAACQRlQAkFJYAJBKTIIAgEYAAIBSAACASgAAkFJcAJBGYACQSlgAkENQAJA+UIQAgFIAAIBGAACQRlQAkFJUggCAKwAAgB8AAIBGAACAUgAAkFJcAJBGYACQS1yCAIBKAACAQwAAgD4AggCQUlwAkEZgAJBLXACQG2AAkCdcggCQOjiCAIBSAACARgAAgEsAAJBLVACQUlwAkEZcggCAOgAAkD9UAJA6VACQN0SCAIBLAACAUgAAgEYAAJBSWACQRlgAkEtYhACAUgAAgEYAAJA1PIIAgD8AAIA6AACANwAAgEsAAJBNTACQUlgAkEpQVYA1AIErgBsAAIAnAACQNTQAkDJMAJAuQIQAkDpIggCQPEyCAIA1AACQNUQAkD5YggCAUgAAgEYAAIBLAACAOgAAkDpIggCAPAAAgDUAAJBRXACQNTyEAIAyAACALgAAgD4AAIA6AACAUQAAgDUAAJBNTACQUlgAkEpQVYBNAACAUgAAgEoAkyuATQAAgFIAAIBKAIgA/y8A\");\n",
       "                });\n",
       "                </script>"
      ],
      "text/plain": [
       "<IPython.core.display.HTML object>"
      ]
     },
     "metadata": {},
     "output_type": "display_data"
    }
   ],
   "source": [
    "from music21 import converter, instrument, note, chord, stream\n",
    "file = converter.parse('generated_musics/original_by_emotion/Q1/original0.mid') \n",
    "file.show('midi')"
   ]
  },
  {
   "cell_type": "code",
   "execution_count": 4,
   "metadata": {},
   "outputs": [
    {
     "data": {
      "text/html": [
       "\n",
       "                <div id=\"midiPlayerDiv7266\"></div>\n",
       "                <link rel=\"stylesheet\" href=\"https://cuthbertLab.github.io/music21j/css/m21.css\">\n",
       "                \n",
       "                <script>\n",
       "                require.config({\n",
       "                    paths: {\n",
       "                        'music21': 'https://cuthbertLab.github.io/music21j/releases/music21.debug',\n",
       "                    }\n",
       "                });\n",
       "                require(['music21'], function(music21) {\n",
       "                    mp = new music21.miditools.MidiPlayer();\n",
       "                    mp.addPlayer(\"#midiPlayerDiv7266\");\n",
       "                    mp.base64Load(\"data:audio/midi;base64,TVRoZAAAAAYAAQACBABNVHJrAAAAFAD/UQMHoSAA/1gEBAIYCIgA/y8ATVRyawAAApAA/wMFUGlhbm8AwAAA4ABAAMAAjACQQEAAkCgsggCQLzSEAJA0PACQREwAkExMhACQODSEAJBCTACQOzgAkEtQggCQNDSCAIAvAACQRDAAkEI0gSuANAAAgEQAAIBMAACAQgBVgEQAAJBETACQLzgAkExUggCQODSBK4A4AFWAQAAAgEQAAJBAGACQRCyCAIBCAACAOAAAkC04VYA0AACAQAAAgEQAgSuAKAAAgDsAAIBLAACALwAAgEwAAJBHVACQPzSCAJAtKIIAgEcAAJA0NFWALQCBK5A5MACQRzCEAJA9LACQQCyEAIA9AACAQACCAJBALACQPSSOAIA/AACQLDCCAIAtAACANAAAgDkAAIBHAACAQAAAgD0AggCQNDiBK4AsAIJVkExMAJBERACQODiEAJA7PIQAkEJMAJBLVIIAgDQAggCQNDiCAIBMAACARAAAkExQAJBESIQAgDgAAJA4OIQAgDsAAIBCAACASwAAgEwAAIBEAACAOAAAkEVIAJBOSACQLSxVgDQAgyuARQAAgE4AAIAtAACQNDQAkEVIAJBOSACQLSyEAJBCPACQR0gAkDk0ggCANAAAkEIYVYBCAIErkDQ0hACARwAAgDkAAJBHPACQLyyCAJBMQACQU0AAkDk0hgCQKhyEAJBLQIIAgEcAggCQRxiEAIBCAACANAAAgC8AAIBMAACAUwAAgDkAAIAqAACASwCGAIBFAACATgAAgC0AAIBHAACQNDQAkEcYAJAvLACQTEAAkFNAAJA5NACQKhwAkEtAhACALwCBK4A0AACASwBVgEwAAIBTAACAOQAAkEAwAJA0LFWARwAAgCoAjSuAQACMAJA7OJ4AgDsAkyuANACIAP8vAA==\");\n",
       "                });\n",
       "                </script>"
      ],
      "text/plain": [
       "<IPython.core.display.HTML object>"
      ]
     },
     "metadata": {},
     "output_type": "display_data"
    }
   ],
   "source": [
    "file = converter.parse('generated_musics/original/original0.mid') \n",
    "file.show('midi')"
   ]
  },
  {
   "cell_type": "code",
   "execution_count": 2,
   "metadata": {},
   "outputs": [
    {
     "data": {
      "text/html": [
       "\n",
       "                <div id=\"midiPlayerDiv3657\"></div>\n",
       "                <link rel=\"stylesheet\" href=\"https://cuthbertLab.github.io/music21j/css/m21.css\">\n",
       "                \n",
       "                <script>\n",
       "                require.config({\n",
       "                    paths: {\n",
       "                        'music21': 'https://cuthbertLab.github.io/music21j/releases/music21.debug',\n",
       "                    }\n",
       "                });\n",
       "                require(['music21'], function(music21) {\n",
       "                    mp = new music21.miditools.MidiPlayer();\n",
       "                    mp.addPlayer(\"#midiPlayerDiv3657\");\n",
       "                    mp.base64Load(\"data:audio/midi;base64,TVRoZAAAAAYAAQACBABNVHJrAAAAFAD/UQMHoSAA/1gEBAIYCIgA/y8ATVRyawAAAlMA/wMFUGlhbm8AwAAA4ABAAMAAiACQV0AAkFBghgCQRCwAkEwoggCAVwAAgFAAAJBNUACQLVwAkERUAJAuSIIAgE0AAJBMRACQUUSCAIBEAACQJRgAkEdMggCATAAAgCUAAJBBTIIAkFFcgSuARwBVgEwAAIBRAACQOCwAkDNYAJBKRFWALQAAgEQAgSuQQVQAkFQ0ggCQT1wAkEEUggCAOAAAgDMAggCQTTyCAIAuAACAQQAAgFEAAIBNAIIAkEBEVYBBAIErgEoAAIBUAACATwAAgEEAAJBKRACQVDSEAIBUAIYAkENEggCASgCCAIBDAIwAgEAAigCQSVQAkEQkggCQT1AAkE1IggCQSTSCAIBJAIgAgE8AgyuASQBVgE0AhACQPFiGAIBEAACQRCQAkFI4gyuAUgCGVZA5QIYAgEQAigCAOQAAkDpYggCQUFSCVYBQAFaAOgBVkEc8ggCQKUxVgEcAgSuQOkCEAIApAACQTDiEAJBENACQTjSCVYBEAIErkEJIAJBDMACQJkyCAIA8AACAOgAAgE4AAIBCAACQRmyCAJAcSIIAkCREgSuARgBVkDNoAJBVJACQVjyCAJA/XIIAgDMAAJBKUIIAgBwAgSuAPwBVgEwAAIBDAACAJgAAgCQAAIBVAACAVgAAkEpQAJAkRACQQzAAkCZMAJBVJACQVjyEAIBVAACAVgCEAIBDAACAJgCEAJAhHIIAgEoAVYAhAIIAgCQAgSuQRUCEAJBQTIErgEUAglWQOSyCAIA5AIIAgEoAAIBQAIgA/y8A\");\n",
       "                });\n",
       "                </script>"
      ],
      "text/plain": [
       "<IPython.core.display.HTML object>"
      ]
     },
     "metadata": {},
     "output_type": "display_data"
    }
   ],
   "source": [
    "file = converter.parse('generated_musics/transformer_1/transformer1.mid') \n",
    "file.show('midi')"
   ]
  },
  {
   "cell_type": "code",
   "execution_count": 5,
   "metadata": {},
   "outputs": [
    {
     "data": {
      "text/html": [
       "\n",
       "                <div id=\"midiPlayerDiv8220\"></div>\n",
       "                <link rel=\"stylesheet\" href=\"https://cuthbertLab.github.io/music21j/css/m21.css\">\n",
       "                \n",
       "                <script>\n",
       "                require.config({\n",
       "                    paths: {\n",
       "                        'music21': 'https://cuthbertLab.github.io/music21j/releases/music21.debug',\n",
       "                    }\n",
       "                });\n",
       "                require(['music21'], function(music21) {\n",
       "                    mp = new music21.miditools.MidiPlayer();\n",
       "                    mp.addPlayer(\"#midiPlayerDiv8220\");\n",
       "                    mp.base64Load(\"data:audio/midi;base64,TVRoZAAAAAYAAQACBABNVHJrAAAAFAD/UQMHoSAA/1gEBAIYCIgA/y8ATVRyawAAAkIA/wMFUGlhbm8AwAAA4ABAAMAApgCQMUwAkDVIAJBBVACQTVSCAIAxAACANQAAgEEAAIBNAACQMUgAkFlUAJAxTACQNUgAkEFUAJBNVACQUlgAkF5IAJA1TACQQUiCAIAxAACAWQAAkE1QAJBVSACQRFAAkDFQAJAuVACQWUwAkElMgSuAMQAAgDUAAIBBAACATQBVgE0AAIBVAACQTUyBK4BSAACAXgAAgDUAAIBBAFWQYVgAkF5MAJBSWACQQVQAkDVUAJBVUIErgEQAAIAxAACALgAAgFkAAIBJAFWQM0wAkC5QAJBZVACQMUwAkERIgSuATQBVkE1MAJBZVACQMVQAkF5UAJBBUACQLlQAkGFgAJA9WACQRmCCAIBhAACAXgAAgFIAAIBBAACAMwAAgC4AAIBZAACAMQAAgEQAVYBNAACAWQAAgDEAgSuQTVAAkFlUAJAxTACQM0SBK4BeAACAQQBVgE0AAIBZAACAMQAAkEFQAJBNTACQMUwAkDVMAJBeSACQUlgAkFlMVYA1AIErgC4AAIBhAACQMVAAkEFUAJAuVACQYVwAkDVMAJBNUFWAQQAAgE0AAIAxAACANQCBK5BJRACQXEBVgDEAAIBBAFaAXgAAgFIAAIBZAFWAMwAAkFlUAJAxTACQQUwAkFJYAJBeTACQM0yBK4AuAIJVgGEAAIA1AACATQAAgFkAAIAxAACAQQCBK4BVAACAUgAAgF4AglWAMwBVgEkAgSuAPQAAgEYAiACAXACIAP8vAA==\");\n",
       "                });\n",
       "                </script>"
      ],
      "text/plain": [
       "<IPython.core.display.HTML object>"
      ]
     },
     "metadata": {},
     "output_type": "display_data"
    }
   ],
   "source": [
    "file = converter.parse('generated_musics/original/original1.mid') \n",
    "file.show('midi')"
   ]
  },
  {
   "cell_type": "code",
   "execution_count": 3,
   "metadata": {},
   "outputs": [
    {
     "data": {
      "text/html": [
       "\n",
       "                <div id=\"midiPlayerDiv5453\"></div>\n",
       "                <link rel=\"stylesheet\" href=\"https://cuthbertLab.github.io/music21j/css/m21.css\">\n",
       "                \n",
       "                <script>\n",
       "                require.config({\n",
       "                    paths: {\n",
       "                        'music21': 'https://cuthbertLab.github.io/music21j/releases/music21.debug',\n",
       "                    }\n",
       "                });\n",
       "                require(['music21'], function(music21) {\n",
       "                    mp = new music21.miditools.MidiPlayer();\n",
       "                    mp.addPlayer(\"#midiPlayerDiv5453\");\n",
       "                    mp.base64Load(\"data:audio/midi;base64,TVRoZAAAAAYAAQACBABNVHJrAAAAFAD/UQMHoSAA/1gEBAIYCIgA/y8ATVRyawAAAmEA/wMFUGlhbm8AwAAA4ABAAMAAiACQRDCCAJAtTIIAkERAggCARAAAkDVsAJBAXACQREyEAIA1AACAQACCAIBEAACQMEwAkDFIhgCAMAAAgDEAAJA2PACQOVyCAJA8HIIAkD4sVYA8AIErkEZMggCAPgCBK4BEAIEqgDYAgyuALQAAgDkAAJA5XACQRkyCAIBGAACAOQCGAIBGAIoAkDVIglWANQCNK5BJPACQPjwAkEFAAJBIIACQLmAAkDVEhACQRVgAkDwkgSuASQAAgD4AAIBBAACASABVkDRMVYBFAIErkD1MggCQMFAAkEEwAJA+NACQMkQAkD08hACALgAAgD0AAJA2MFWAPABWgDAAAIBBAFWAPgAAgDIAhACANAAAgDYAAJBDSACQMlQAkD9IAJA8LIIAgD0AAIBDAACQOEQAkD9sggCQQUQAkDFcggCAMgAAgD8AAJBaYACQOVgAkDgwVYBBAIErgDgAAIA/AACAWgAAgDkAAJArWACQLTSCAIA1AACAPAAAgDEAAIA4AACQK1gAkC00AJA8LACQMVwAkDgwggCAPAAAgDEAgSuAKwAAgC0AhFWAKwAAgC0AhgCAOACSAJAkKIgAkCdYAJA4WIIAkDA8AJAxWIQAgCcAAJBEJIIAgCQAAJA8QIIAkDdoggCQRChVgDcAgSuQKUCEAIBEAFWAPABWgCkAVYBEAIIAkD4sAJA5TIIAgDgAAIAwAACAMQAAgD4AAJAwPACQMVgAkDAwAJAiOACQQCSCAIAwAIYAgDkAAIAxAIQAgDAAAIAiAJxVgEAAiAD/LwA=\");\n",
       "                });\n",
       "                </script>"
      ],
      "text/plain": [
       "<IPython.core.display.HTML object>"
      ]
     },
     "metadata": {},
     "output_type": "display_data"
    }
   ],
   "source": [
    "file = converter.parse('generated_musics/transformer_1/transformer3.mid') \n",
    "file.show('midi')"
   ]
  },
  {
   "cell_type": "code",
   "execution_count": 6,
   "metadata": {},
   "outputs": [
    {
     "data": {
      "text/html": [
       "\n",
       "                <div id=\"midiPlayerDiv9974\"></div>\n",
       "                <link rel=\"stylesheet\" href=\"https://cuthbertLab.github.io/music21j/css/m21.css\">\n",
       "                \n",
       "                <script>\n",
       "                require.config({\n",
       "                    paths: {\n",
       "                        'music21': 'https://cuthbertLab.github.io/music21j/releases/music21.debug',\n",
       "                    }\n",
       "                });\n",
       "                require(['music21'], function(music21) {\n",
       "                    mp = new music21.miditools.MidiPlayer();\n",
       "                    mp.addPlayer(\"#midiPlayerDiv9974\");\n",
       "                    mp.base64Load(\"data:audio/midi;base64,TVRoZAAAAAYAAQACBABNVHJrAAAAFAD/UQMHoSAA/1gEBAIYCIgA/y8ATVRyawAAAlUA/wMFUGlhbm8AwAAA4ABAAMAAkgCQLBwAkCwoAJA/HACQSECCVYAsAACALACBK5AsHACQMxwAkDwgggCQLCAAkDggVYAsAIIAgCwAgSuAMwAAkCwgAJBGMACQOiSCAIA8AIIAkCsgAJA3GIIAgCwAAIArAACQRDQAkCwghgCAPwAAgEgAAIA4AACANwAAgEQAAIAsAACQKSAAkEYwAJA6JACQMyCCAIBGAACAOgAAkD8UggCQPAwAkDAcgSuAKQCCVZA4HIIAgDwAAJAsGACQPBiEAIAzAACQMyCCAIAsAIIAkCwkggCAMAAAgDwAAJA4JACQPRgAkEEggSuAOABVgD8AVYBGAACAOgCBK4AsAACQNRgAkCwcglWANQCBK5A1HIIAgDgAAIAsAIIAgDMAAIA9AACAQQAAkCwUAJA4FACQPRgAkDMgAJBBIIIAgCwAAIAzAACQMxgAkCwUAJA/HIJVgDMAgSuQMxSCAIAsAACAPwAAkDMUAJAsJACQPxRVgDMAggCAMwCBK5AzGIIAgCwAggCAPwAAkCwcAJA8GIIAgDMAAJAzGACQPxSEAJA6GIIAgD0AAIAzAACQMxgAkD0ghACAOAAAgEEAAIA/AACAOgAAgDMAAIA9AACQLCSBK4AsAACAPACCVYA1AACQMxgAkDwkggCQLBgAkDgUhgCQOhgAkDMMgSuAMwBVgCwAAJBIHACQLBSCAIAsAACAOAAAgEgAAIAsAACQLBwAkD0cAJA4GIIAgDoAAIAzAIIAgDwAAIAsAACAPQAAgDgAiAD/LwA=\");\n",
       "                });\n",
       "                </script>"
      ],
      "text/plain": [
       "<IPython.core.display.HTML object>"
      ]
     },
     "metadata": {},
     "output_type": "display_data"
    }
   ],
   "source": [
    "file = converter.parse('generated_musics/original/original3.mid') \n",
    "file.show('midi')"
   ]
  },
  {
   "cell_type": "code",
   "execution_count": null,
   "metadata": {},
   "outputs": [],
   "source": []
  },
  {
   "cell_type": "code",
   "execution_count": 7,
   "metadata": {},
   "outputs": [
    {
     "data": {
      "text/html": [
       "\n",
       "                <div id=\"midiPlayerDiv11576\"></div>\n",
       "                <link rel=\"stylesheet\" href=\"https://cuthbertLab.github.io/music21j/css/m21.css\">\n",
       "                \n",
       "                <script>\n",
       "                require.config({\n",
       "                    paths: {\n",
       "                        'music21': 'https://cuthbertLab.github.io/music21j/releases/music21.debug',\n",
       "                    }\n",
       "                });\n",
       "                require(['music21'], function(music21) {\n",
       "                    mp = new music21.miditools.MidiPlayer();\n",
       "                    mp.addPlayer(\"#midiPlayerDiv11576\");\n",
       "                    mp.base64Load(\"data:audio/midi;base64,TVRoZAAAAAYAAQACBABNVHJrAAAAFAD/UQMHoSAA/1gEBAIYCIgA/y8ATVRyawAAAoUA/wMFUGlhbm8AwAAA4ABAAMAAiACQSVAAkChAggCQSFAAkFZEAJAnSIIAgEgAAIBWAACQWGyCAIAnAACQOFAAkEI8AJBBQACQVCyCAIBJAACAKAAAkCtAAJBKUFWAOAAAgEIAgSuAWAAAkB5EAJBDTACQMDiCAIAeAACQTRwAkFlIAJBLUIIAkEUwAJBFOACQVzyCAIBDAACARQAAkFtsAJBYYACQSEgAkE9IAJA1JACQNEgAkEgoAJBGJFWAQQBWgE0AAIBZAFWAWwAAgFgAAJBFSACQTWAAkDxIAJAtaACQRTSCAIBFAACAVwAAgEUAAIBNAACAPAAAkERAAJA1UIIAgEsAAJBbTIErgDAAVYBUAACAKwAAgEoAAIBIAACATwAAgDUAAIA0AACASAAAgEYAAIAtAACAWwAAkB4oAJBDaACQPySCAJBIJIIAgEQAAIBIAACQSEiCAJBESIIAgEUAAIA1AACAHgAAgEMAAIA/AACARACIAIBIAACQHigAkENoAJA/JACQRTQAkExUAJA1UIIAkEU8ggCQPmAAkDVcVYBFAIMrgB4AAIBDAACATAAAkCwkggCANQAAgEUAAJAzTIIAgD4AAIA1AIErgCwAVZBMIACQRlSCAJAzUACQKkwAkEEsggCQMEgAkDdQglWAMwCBK4BBAACQTzyCAJBCIACQP2QAkDkwVYBMAIErgE8AAIBCAACQPVBVgD8AgSuQNUyEAIBGAACAMwAAgCoAAIAwAACANwAAgD8AAIA5AACAPQAAkDVMAJBGVACQMEgAkDdQAJA/ZACQOTCCVYA5AIIAgDUAhyuANQAAgEYAggCAMACCAIA/AIYAgDcAiAD/LwA=\");\n",
       "                });\n",
       "                </script>"
      ],
      "text/plain": [
       "<IPython.core.display.HTML object>"
      ]
     },
     "metadata": {},
     "output_type": "display_data"
    }
   ],
   "source": [
    "file = converter.parse('generated_musics/transformer_1_by_emotion/Q1/transformer0.mid') \n",
    "file.show('midi')"
   ]
  },
  {
   "cell_type": "code",
   "execution_count": 8,
   "metadata": {},
   "outputs": [
    {
     "data": {
      "text/html": [
       "\n",
       "                <div id=\"midiPlayerDiv13359\"></div>\n",
       "                <link rel=\"stylesheet\" href=\"https://cuthbertLab.github.io/music21j/css/m21.css\">\n",
       "                \n",
       "                <script>\n",
       "                require.config({\n",
       "                    paths: {\n",
       "                        'music21': 'https://cuthbertLab.github.io/music21j/releases/music21.debug',\n",
       "                    }\n",
       "                });\n",
       "                require(['music21'], function(music21) {\n",
       "                    mp = new music21.miditools.MidiPlayer();\n",
       "                    mp.addPlayer(\"#midiPlayerDiv13359\");\n",
       "                    mp.base64Load(\"data:audio/midi;base64,TVRoZAAAAAYAAQACBABNVHJrAAAAFAD/UQMHoSAA/1gEBAIYCIgA/y8ATVRyawAAAlMA/wMFUGlhbm8AwAAA4ABAAMAAiACQKEwAkDpIAJBJRACQRkiCAJA3KIIAkB9MAJBRUACQNkiBK4AoAFWQMVxVgB8AgSuAMQAAkEFIAJBIMIIAgDoAAIBBAACASAAAkDwsAJBOTACQOkQAkFdIggCQP0wAkEFIAJA2cACQSVQAkDZIVYA8AACATgCBK5BORACQRURVgD8AAIBBAIErgDcAAIA2AACAOgAAgFcAAJA3LACQN0iCAIBJAACAUQCCAIBOAACQO2AAkDc0AJA9GIIAgEYAAIBJAACQRjgAkEBMAJA1HACQP2AAkDo8VYA7AIUrgEUAAIBAAIErgDcAAIA3AFWQOkyCAIA2AACANgAAgDcAAIA9AACARgAAgDUAAIA/AACAOgAAkFJIAJArbACQNzQAkEY4AJA9GACQP2AAkDo8AJA2cACQNkiCAIBSAACANwCCAIA/AACAOgCCAJA4MACQT2hVgDYAgSuQNhyCAIA9AACAOAAAkDhEAJBdOIIAgDgAggCANgAAkD88ggCAOgAAkCpQggCAKwAAgDYAggCATwAAgF0AAJAnOIErgCoAVYAnAIJVgD8AgSuARgAAkC5khgCQQiCCAJBUXIIAkCxYggCALAAAkDxoAJA7RACQH0yCAIBUAACQQUgAkDhUVYBCAIMrgC4AAIBBAIQAgDwAAIA7AACAHwCEAJA3UIIAgDgAggCQMiQAkEMYggCQTkCGAIA3AACAMgAAgEMAAJBOQACQNkQAkCpQgSuAKgBVgE4AiACANgCCAIBOAIgA/y8A\");\n",
       "                });\n",
       "                </script>"
      ],
      "text/plain": [
       "<IPython.core.display.HTML object>"
      ]
     },
     "metadata": {},
     "output_type": "display_data"
    }
   ],
   "source": [
    "file = converter.parse('generated_musics/transformer_1_by_emotion/Q2/transformer0.mid') \n",
    "file.show('midi')"
   ]
  },
  {
   "cell_type": "code",
   "execution_count": 9,
   "metadata": {},
   "outputs": [
    {
     "data": {
      "text/html": [
       "\n",
       "                <div id=\"midiPlayerDiv15062\"></div>\n",
       "                <link rel=\"stylesheet\" href=\"https://cuthbertLab.github.io/music21j/css/m21.css\">\n",
       "                \n",
       "                <script>\n",
       "                require.config({\n",
       "                    paths: {\n",
       "                        'music21': 'https://cuthbertLab.github.io/music21j/releases/music21.debug',\n",
       "                    }\n",
       "                });\n",
       "                require(['music21'], function(music21) {\n",
       "                    mp = new music21.miditools.MidiPlayer();\n",
       "                    mp.addPlayer(\"#midiPlayerDiv15062\");\n",
       "                    mp.base64Load(\"data:audio/midi;base64,TVRoZAAAAAYAAQACBABNVHJrAAAAFAD/UQMHoSAA/1gEBAIYCIgA/y8ATVRyawAAAooA/wMFUGlhbm8AwAAA4ABAAMAAiACQNjgAkD0oggCANgAAkDksAJA+UACQSFgAkChIggCQMjgAkClcAJBQRACQKygAkENsVYA5AIErkEA8AJA6LACQLCwAkD9AAJBBRACQPkRVgDIAAIApAACAUACBK4BAAACAOgAAkDM8AJAqYACQLlwAkDI4ggCAPQAAkDRUAJBJMFWAMwBWgCwAAIA/AFWQJCQAkDkcAJA5YACQQVAAkCRQAJA3ZIIAgCoAAJA8MACQNkgAkDMYgSuAPgAAgEgAVZAwVIIAgCgAAIA0AACASQAAgCQAAIA5AACAOQAAkEEUAJA/GACQMGAAkEREVYAwAFaAPAAAgDYAVYBBAACAQQAAkDxUAJA9PACQJxyCAIBBAACQK0wAkDlAAJA5WACQOUwAkDlAAJA2PACQMlgAkDFIVYArAIErgCQAAJA9TACQNjgAkDc8AJA5MIErgDwAAIA9AFWAPgAAgD8AAIAwAACAOQAAgDkAAIA2AACQQUSCAIAzAACQPWgAkDlMAJBPUACQPDAAkDZUAJApTFWARACBK4A3AACAKwAAgDkAAIA5AACAPQAAkCc0VYAnAACAPQCBK4BDAACALgAAgDIAAIAyAACAMQAAgDYAAIA3AACAOQAAgEEAAIA5AACATwAAgDwAAIA2AACAKQAAkEFEAJA4bACQOUwAkDJYAJAuXACQMjgAkDY4AJA8MACQMUgAkDc8AJA5MACQNlQAkClMhACAJwAAgEEAgSuANwAAgDkAVYAuAIIAgDYAAIA8AIgAgDkAhACAMgCGAIAxAACANgCGAIApAACQOGwAkDJYggCAOACCAIAyAIQAgDIAigCAOACIAP8vAA==\");\n",
       "                });\n",
       "                </script>"
      ],
      "text/plain": [
       "<IPython.core.display.HTML object>"
      ]
     },
     "metadata": {},
     "output_type": "display_data"
    }
   ],
   "source": [
    "file = converter.parse('generated_musics/transformer_1_by_emotion/Q3/transformer0.mid') \n",
    "file.show('midi')"
   ]
  },
  {
   "cell_type": "code",
   "execution_count": 2,
   "metadata": {},
   "outputs": [
    {
     "data": {
      "text/html": [
       "\n",
       "                <div id=\"midiPlayerDiv3129\"></div>\n",
       "                <link rel=\"stylesheet\" href=\"https://cuthbertLab.github.io/music21j/css/m21.css\">\n",
       "                \n",
       "                <script>\n",
       "                require.config({\n",
       "                    paths: {\n",
       "                        'music21': 'https://cuthbertLab.github.io/music21j/releases/music21.debug',\n",
       "                    }\n",
       "                });\n",
       "                require(['music21'], function(music21) {\n",
       "                    mp = new music21.miditools.MidiPlayer();\n",
       "                    mp.addPlayer(\"#midiPlayerDiv3129\");\n",
       "                    mp.base64Load(\"data:audio/midi;base64,TVRoZAAAAAYAAQACBABNVHJrAAAAFAD/UQMHoSAA/1gEBAIYCIgA/y8ATVRyawAAAlIA/wMFUGlhbm8AwAAA4ABAAMAAigCQUTiCAJBMZIIAgEwAAJBDNACQNViCAIBRAACAQwCEAJBHXIIAgDUAiACARwCCAJBLQIgAkC5giACQSDSIAIBIAIYAkEcgglWARwCDK4BLAIIAkCJMggCALgAAkEdEAJAiTFWAIgCBK4BHAIIAkD1ghgCQVCyCAIBUAIIAkEsoggCQW0QAkCksggCASwAAgFsAAIApAIIAgD0AAJBSXIQAgCIAiACQQVQAkCk8AJBcJIIAgEEAAJA4WACQMRAAkCIsggCAOAAAkE5gAJAwWACQVEgAkDtQAJAuLACQVCAAkExcggCAKQAAgFwAVYBOAIErkD4sggCAMQAAgCIAAIAwAACQXUiCAIA+AIIAkEREAJAxYIIAgFQAAIA7AACQNFAAkD5AAJApFFWARABWgC4AVZBRVACQOTQAkFFoAJAzTIIAkE08ggCAMQAAgFEAAIA5AIIAgFEAAIAzAACQRVAAkEpEggCATQAAkEZUAJA6UIIAgFQAAJAcMACQH0AAkEAgAJA3LIErgDQAVYBFAACQQVyCAIBMAACAXQAAgD4AAIApAACASgAAgEYAAIA6AACAHAAAgB8AAIBAAACANwAAkF1IAJBKRACQQlAAkCtQAJBGVACQTFwAkD5AAJApFACQOlAAkB9AAJBAIACQNyyBK4BMAFWARgAAgB8AglWAQQCBK4A+AFWAQACBK4BSAACAOgCCAIBdAIIAgEoAAIBCAACAKwCCAIApAJIAkDcsmyuANwBVgDcAiAD/LwA=\");\n",
       "                });\n",
       "                </script>"
      ],
      "text/plain": [
       "<IPython.core.display.HTML object>"
      ]
     },
     "metadata": {},
     "output_type": "display_data"
    }
   ],
   "source": [
    "file = converter.parse('generated_musics/gan/gan0.mid') \n",
    "file.show('midi')"
   ]
  },
  {
   "cell_type": "code",
   "execution_count": 3,
   "metadata": {},
   "outputs": [
    {
     "data": {
      "text/html": [
       "\n",
       "                <div id=\"midiPlayerDiv3473\"></div>\n",
       "                <link rel=\"stylesheet\" href=\"https://cuthbertLab.github.io/music21j/css/m21.css\">\n",
       "                \n",
       "                <script>\n",
       "                require.config({\n",
       "                    paths: {\n",
       "                        'music21': 'https://cuthbertLab.github.io/music21j/releases/music21.debug',\n",
       "                    }\n",
       "                });\n",
       "                require(['music21'], function(music21) {\n",
       "                    mp = new music21.miditools.MidiPlayer();\n",
       "                    mp.addPlayer(\"#midiPlayerDiv3473\");\n",
       "                    mp.base64Load(\"data:audio/midi;base64,TVRoZAAAAAYAAQACBABNVHJrAAAAFAD/UQMHoSAA/1gEBAIYCIgA/y8ATVRyawAAAFsA/wMFUGlhbm8AwAAA4ABAAMAAigCQS0CCAJBhaACQOByCAIBLAIIAkEgsggCAYQAAkD80hgCAPwAAkDNIgSuAOACEVYBIAIIAkEosglWASgCIAIAzAIgA/y8A\");\n",
       "                });\n",
       "                </script>"
      ],
      "text/plain": [
       "<IPython.core.display.HTML object>"
      ]
     },
     "metadata": {},
     "output_type": "display_data"
    }
   ],
   "source": [
    "file = converter.parse('generated_musics/gan/gan1.mid') \n",
    "file.show('midi')"
   ]
  },
  {
   "cell_type": "code",
   "execution_count": 6,
   "metadata": {},
   "outputs": [
    {
     "data": {
      "text/html": [
       "\n",
       "                <div id=\"midiPlayerDiv6538\"></div>\n",
       "                <link rel=\"stylesheet\" href=\"https://cuthbertLab.github.io/music21j/css/m21.css\">\n",
       "                \n",
       "                <script>\n",
       "                require.config({\n",
       "                    paths: {\n",
       "                        'music21': 'https://cuthbertLab.github.io/music21j/releases/music21.debug',\n",
       "                    }\n",
       "                });\n",
       "                require(['music21'], function(music21) {\n",
       "                    mp = new music21.miditools.MidiPlayer();\n",
       "                    mp.addPlayer(\"#midiPlayerDiv6538\");\n",
       "                    mp.base64Load(\"data:audio/midi;base64,TVRoZAAAAAYAAQACBABNVHJrAAAAFAD/UQMHoSAA/1gEBAIYCIgA/y8ATVRyawAAAkUA/wMFUGlhbm8AwAAA4ABAAMAAmACQNESCAJBQSIIAkDEshACAMQCCAIA0AACAUACGAJBMUACQQ0iCAJA/XACQLjgAkEI8VYBMAIErkC9IAJBHJACQTERVgD8AAIAuAIErkEpoAJBDVACQKlCCAIBCAACASgAAkEQQAJBPNACQRTSCAIAvAACARwAAkDFUAJBEGACQPDQAkEIoAJBLRFWARACBK4BMAACQSlAAkE00AJBRPACQSjwAkE84AJAxOACQNzgAkFMwAJBPKIIAgDEAAIBEAIIAgEMAAIBPAACQUTwAkDFQggCAPAAAgEIAAIBKAACATQAAgFEAAJAvXACQNGSCAIAvAACQSVAAkDJUAJBHUIIAgEUAAIBJAACQMUQAkERQAJBHQACQPEAAkDMUAJBGMACQLjQAkERQVYBKAACATwAAgDEAgSuAUQAAgDEAAIA0AACQL0QAkEUsAJAwNIIAgEsAAIAyAACARwAAgC4AAIBEAACQTCwAkEgwAJBEJACQR0yCAIA3AACAUwAAgDEAAIBEAACARwAAgDwAAIAzAACARgAAkCM0AJBQOACQRkSCAIAqAFWAIwAAgFAAgSuAQwAAgE8AAIAvAACARQAAgDAAAIBMAACASAAAgEQAAIBHAACQRSwAkDA0AJBMLACQSDAAkENUAJBHTACQJUQAkE8oggCATAAAgEgAhACARgAAgEUAAIAwAIIAgEMAmACAJQAAkCVEAJBPKIwAgE8AiACAJQCGAIBHAACATwCIAP8vAA==\");\n",
       "                });\n",
       "                </script>"
      ],
      "text/plain": [
       "<IPython.core.display.HTML object>"
      ]
     },
     "metadata": {},
     "output_type": "display_data"
    }
   ],
   "source": [
    "file = converter.parse('generated_musics/gan/gan3.mid') \n",
    "file.show('midi')"
   ]
  },
  {
   "cell_type": "code",
   "execution_count": 14,
   "metadata": {},
   "outputs": [
    {
     "data": {
      "text/html": [
       "\n",
       "                <div id=\"midiPlayerDiv4317\"></div>\n",
       "                <link rel=\"stylesheet\" href=\"https://cuthbertLab.github.io/music21j/css/m21.css\">\n",
       "                \n",
       "                <script>\n",
       "                require.config({\n",
       "                    paths: {\n",
       "                        'music21': 'https://cuthbertLab.github.io/music21j/releases/music21.debug',\n",
       "                    }\n",
       "                });\n",
       "                require(['music21'], function(music21) {\n",
       "                    mp = new music21.miditools.MidiPlayer();\n",
       "                    mp.addPlayer(\"#midiPlayerDiv4317\");\n",
       "                    mp.base64Load(\"data:audio/midi;base64,TVRoZAAAAAYAAQACBABNVHJrAAAAFAD/UQMHoSAA/1gEBAIYCIgA/y8ATVRyawAAAogA/wMFUGlhbm8AwAAA4ABAAMAApgCQRVQAkEhYAJBRXACQTViCAIBFAACASAAAgFEAAIBNAACQKWgAkEVUAJBIWACQUVwAkE1YhACQMFiCAJA1UIIAgDUAAJA5XACQPFgAkEFYggCQNVSCAJA1UFWANQCBK5AyVIIAgCkAAIBFAACASAAAgFEAAIBNAACAMAAAgDkAAIA8AACAQQAAgDUAAIAyAACQN2AAkENYAJArWIIAkDpYAJA+UIMrgDcAVZA3UIIAgEMAAJBGXACQUlQAkEpQggCQQ1iCAIBGAACAUgAAgEoAhACAKwAAgDoAAIA+AACANwAAkFJUAJAuTACQRlwAkEtYAJBPUACQRmAAkFJYAJBPSACQSlgAkDpYAJA+UACQQ1gAkDM8ggCAUgAAgC4AAIBGAACAUgAAgE8AAIBKAACAOgAAgD4AAIBDAACAMwAAkCdchgCAQwAAgEYAAIBLAACAJwAAkDpMggCQRlwAkEtYAJBSXIIAgDoAAJA6TACQP0wAkDdIggCARgAAgEsAAIBSAACQRmAAkFJYAJBLWIQAkClEAJBGXACQUlQAkE1QAJBKUFWATwCBK4A6AACAPwAAgDcAAIBGAACAUgAAgEsAAJAiSACQLlyCAIAiAIIAgCkAAJA+RACQOkCCAIBGAACAUgAAgE0AAIBKAACQTVAAkFJYAJBKVACQRlyCAIA+AACQNUSCAIA6AIIAgC4AAIBNAACAUgAAgEoAAIBGAACQOlQAkC5cAJA3QACQPlAAkE1QAJBSWACQSlQAkEZcggCQUVCCAIBRAFWATQAAgFIAAIBKAACARgCBK4A6AACALgAAgDcAAIA+AIIAgDUAiAD/LwA=\");\n",
       "                });\n",
       "                </script>"
      ],
      "text/plain": [
       "<IPython.core.display.HTML object>"
      ]
     },
     "metadata": {},
     "output_type": "display_data"
    }
   ],
   "source": [
    "file = converter.parse('generated_musics/transformer_2_by_emotion/Q1/transformer1.mid') \n",
    "file.show('midi')"
   ]
  },
  {
   "cell_type": "code",
   "execution_count": null,
   "metadata": {},
   "outputs": [],
   "source": []
  }
 ],
 "metadata": {
  "kernelspec": {
   "display_name": "venv",
   "language": "python",
   "name": "python3"
  },
  "language_info": {
   "codemirror_mode": {
    "name": "ipython",
    "version": 3
   },
   "file_extension": ".py",
   "mimetype": "text/x-python",
   "name": "python",
   "nbconvert_exporter": "python",
   "pygments_lexer": "ipython3",
   "version": "3.8.10"
  }
 },
 "nbformat": 4,
 "nbformat_minor": 2
}
